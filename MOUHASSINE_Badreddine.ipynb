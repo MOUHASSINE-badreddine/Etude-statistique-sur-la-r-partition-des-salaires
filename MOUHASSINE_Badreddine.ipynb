{
 "cells": [
  {
   "cell_type": "markdown",
   "metadata": {},
   "source": [
    "#                      Projet statistique descriptive"
   ]
  },
  {
   "cell_type": "markdown",
   "metadata": {},
   "source": [
    "### *réalisé par :*"
   ]
  },
  {
   "cell_type": "markdown",
   "metadata": {},
   "source": [
    "> **Badreddine MOUHASSINE** <br> **DSE**"
   ]
  },
  {
   "cell_type": "markdown",
   "metadata": {},
   "source": [
    "### *Plan du travail:*"
   ]
  },
  {
   "cell_type": "markdown",
   "metadata": {},
   "source": [
    ">***Préparation des données***.<br>\n",
    ">>*Importation des librairies de travail*<br>*Importer les données*<br>*Création d'une nouvelle colone sous le nom ' intervalle d'éxperience' qui s'agit d'une variable qualitative*<br>*définir une fonction qui sert a afficher le tableau de fréquence*\n"
   ]
  },
  {
   "cell_type": "markdown",
   "metadata": {},
   "source": [
    ">***Description des variables***.<br>\n",
    ">>*Description de la variable qualitative nominal sexe*<br>*Description de la variable qualitative ordinale niveau d'études*<br>*Description de la variable qualitative ordinale intervalle d'éxperience*<br>*Description de la variable quantitative continue Salaire net en MAD:*<br>\n",
    ">>>*Etudions l'effet du Sexe sur le salaire*<br>*Etudions l'effet de l'intervalle d'expérience sur le salaire*<br>*Etudions l'effet de Niveau d'études sur le salaire*<br>*Etudions l'effet du sexe et nombre d'années d'expérience sur le salaire*<br>*Etudions l'effet du sexe et niveau d'études sur le salaire*<br>*Etudions l'effet de l'expérience et niveau d'études sur le salaire*<br>*Etudions l'effet de l'expérience et niveau d'études et le sexe sur le salaire*\n",
    "\n"
   ]
  },
  {
   "cell_type": "markdown",
   "metadata": {},
   "source": [
    ">***Estimation du salaire dans cette entreprise***.<br>\n",
    ">>*Régression linéaire simple entre le salaire et le niveau d'études*<br>*Régression linéaire simple entre le salaire et le nombre d'années d'expérience*"
   ]
  },
  {
   "cell_type": "markdown",
   "metadata": {},
   "source": [
    "# *Préparation des données*"
   ]
  },
  {
   "cell_type": "markdown",
   "metadata": {},
   "source": [
    "#### Importation des librairies de travail"
   ]
  },
  {
   "cell_type": "code",
   "execution_count": 217,
   "metadata": {},
   "outputs": [],
   "source": [
    "import pandas as pd\n",
    "import seaborn as sns\n",
    "import numpy as np\n",
    "import matplotlib.pyplot as plt\n",
    "from scipy import stats"
   ]
  },
  {
   "cell_type": "markdown",
   "metadata": {},
   "source": [
    "#### Importer les données"
   ]
  },
  {
   "cell_type": "code",
   "execution_count": 137,
   "metadata": {},
   "outputs": [
    {
     "data": {
      "text/html": [
       "<div>\n",
       "<style scoped>\n",
       "    .dataframe tbody tr th:only-of-type {\n",
       "        vertical-align: middle;\n",
       "    }\n",
       "\n",
       "    .dataframe tbody tr th {\n",
       "        vertical-align: top;\n",
       "    }\n",
       "\n",
       "    .dataframe thead th {\n",
       "        text-align: right;\n",
       "    }\n",
       "</style>\n",
       "<table border=\"1\" class=\"dataframe\">\n",
       "  <thead>\n",
       "    <tr style=\"text-align: right;\">\n",
       "      <th></th>\n",
       "      <th>Identifiant</th>\n",
       "      <th>Sexe</th>\n",
       "      <th>Salaire net en MAD</th>\n",
       "      <th>Niveau d’étude</th>\n",
       "      <th>Nb année d’expérience</th>\n",
       "    </tr>\n",
       "  </thead>\n",
       "  <tbody>\n",
       "    <tr>\n",
       "      <th>0</th>\n",
       "      <td>1</td>\n",
       "      <td>H</td>\n",
       "      <td>11396.563014</td>\n",
       "      <td>BAC+5</td>\n",
       "      <td>7.343141</td>\n",
       "    </tr>\n",
       "    <tr>\n",
       "      <th>1</th>\n",
       "      <td>2</td>\n",
       "      <td>H</td>\n",
       "      <td>11537.258151</td>\n",
       "      <td>BAC+5</td>\n",
       "      <td>9.598551</td>\n",
       "    </tr>\n",
       "    <tr>\n",
       "      <th>2</th>\n",
       "      <td>3</td>\n",
       "      <td>F</td>\n",
       "      <td>3601.932341</td>\n",
       "      <td>BAC+2</td>\n",
       "      <td>0.180836</td>\n",
       "    </tr>\n",
       "    <tr>\n",
       "      <th>3</th>\n",
       "      <td>4</td>\n",
       "      <td>H</td>\n",
       "      <td>8194.975406</td>\n",
       "      <td>BAC+5</td>\n",
       "      <td>2.162158</td>\n",
       "    </tr>\n",
       "    <tr>\n",
       "      <th>4</th>\n",
       "      <td>5</td>\n",
       "      <td>F</td>\n",
       "      <td>3210.132486</td>\n",
       "      <td>BAC</td>\n",
       "      <td>4.107386</td>\n",
       "    </tr>\n",
       "  </tbody>\n",
       "</table>\n",
       "</div>"
      ],
      "text/plain": [
       "   Identifiant Sexe  Salaire net en MAD Niveau d’étude  Nb année d’expérience\n",
       "0            1    H        11396.563014          BAC+5               7.343141\n",
       "1            2    H        11537.258151          BAC+5               9.598551\n",
       "2            3    F         3601.932341          BAC+2               0.180836\n",
       "3            4    H         8194.975406          BAC+5               2.162158\n",
       "4            5    F         3210.132486            BAC               4.107386"
      ]
     },
     "execution_count": 137,
     "metadata": {},
     "output_type": "execute_result"
    }
   ],
   "source": [
    "#lire le fichier xlsx\n",
    "sal_entr=pd.read_excel(r'C:\\Users\\badreddine\\Downloads\\Salaire_entreprise.xlsx')\n",
    "sal_entr.to_csv('Salaire_entreprise.csv',encoding='utf-8', index=False)\n",
    "#affichage des 5 premier ligne \n",
    "sal_entr.head()"
   ]
  },
  {
   "cell_type": "markdown",
   "metadata": {},
   "source": [
    "**Création d'une nouvelle colone sous le nom ' intervalle d'éxperience' qui s'agit d'un variable qualitative**"
   ]
  },
  {
   "cell_type": "code",
   "execution_count": 171,
   "metadata": {},
   "outputs": [
    {
     "data": {
      "text/html": [
       "<div>\n",
       "<style scoped>\n",
       "    .dataframe tbody tr th:only-of-type {\n",
       "        vertical-align: middle;\n",
       "    }\n",
       "\n",
       "    .dataframe tbody tr th {\n",
       "        vertical-align: top;\n",
       "    }\n",
       "\n",
       "    .dataframe thead th {\n",
       "        text-align: right;\n",
       "    }\n",
       "</style>\n",
       "<table border=\"1\" class=\"dataframe\">\n",
       "  <thead>\n",
       "    <tr style=\"text-align: right;\">\n",
       "      <th></th>\n",
       "      <th>Identifiant</th>\n",
       "      <th>Sexe</th>\n",
       "      <th>Salaire net en MAD</th>\n",
       "      <th>Niveau d’étude</th>\n",
       "      <th>Nb année d’expérience</th>\n",
       "      <th>intervalle d'expérience</th>\n",
       "    </tr>\n",
       "  </thead>\n",
       "  <tbody>\n",
       "    <tr>\n",
       "      <th>142</th>\n",
       "      <td>143</td>\n",
       "      <td>H</td>\n",
       "      <td>3621.448802</td>\n",
       "      <td>BAC+2</td>\n",
       "      <td>0.251117</td>\n",
       "      <td>[0,1]</td>\n",
       "    </tr>\n",
       "    <tr>\n",
       "      <th>168</th>\n",
       "      <td>169</td>\n",
       "      <td>H</td>\n",
       "      <td>4244.404264</td>\n",
       "      <td>BAC+3</td>\n",
       "      <td>0.570734</td>\n",
       "      <td>[0,1]</td>\n",
       "    </tr>\n",
       "    <tr>\n",
       "      <th>60</th>\n",
       "      <td>61</td>\n",
       "      <td>H</td>\n",
       "      <td>4252.874410</td>\n",
       "      <td>BAC+3</td>\n",
       "      <td>0.995531</td>\n",
       "      <td>[0,1]</td>\n",
       "    </tr>\n",
       "    <tr>\n",
       "      <th>132</th>\n",
       "      <td>133</td>\n",
       "      <td>F</td>\n",
       "      <td>2949.500143</td>\n",
       "      <td>BAC</td>\n",
       "      <td>0.373388</td>\n",
       "      <td>[0,1]</td>\n",
       "    </tr>\n",
       "    <tr>\n",
       "      <th>66</th>\n",
       "      <td>67</td>\n",
       "      <td>H</td>\n",
       "      <td>5547.985589</td>\n",
       "      <td>BAC+4</td>\n",
       "      <td>0.888613</td>\n",
       "      <td>[0,1]</td>\n",
       "    </tr>\n",
       "  </tbody>\n",
       "</table>\n",
       "</div>"
      ],
      "text/plain": [
       "     Identifiant Sexe  Salaire net en MAD Niveau d’étude  \\\n",
       "142          143    H         3621.448802          BAC+2   \n",
       "168          169    H         4244.404264          BAC+3   \n",
       "60            61    H         4252.874410          BAC+3   \n",
       "132          133    F         2949.500143            BAC   \n",
       "66            67    H         5547.985589          BAC+4   \n",
       "\n",
       "     Nb année d’expérience intervalle d'expérience  \n",
       "142               0.251117                   [0,1]  \n",
       "168               0.570734                   [0,1]  \n",
       "60                0.995531                   [0,1]  \n",
       "132               0.373388                   [0,1]  \n",
       "66                0.888613                   [0,1]  "
      ]
     },
     "execution_count": 171,
     "metadata": {},
     "output_type": "execute_result"
    }
   ],
   "source": [
    "intr_exp=['['+str(int(i))+','+str(int(i)+1)+']' for i in sal_entr['Nb année d’expérience']]\n",
    "intr_exp\n",
    "sal_entr['intervalle d\\'expérience']=intr_exp\n",
    "sal_entr=sal_entr.sort_values(by=['intervalle d\\'expérience'])\n",
    "sal_entr.head()"
   ]
  },
  {
   "cell_type": "markdown",
   "metadata": {},
   "source": [
    "#### définir une fonction qui sert a afficher le tableau de fréquence"
   ]
  },
  {
   "cell_type": "code",
   "execution_count": 5,
   "metadata": {},
   "outputs": [],
   "source": [
    "def tableau_freq(col,colname):\n",
    "    freqtab={\n",
    "        colname:[i for i in col.drop_duplicates()],\n",
    "        'effectif':[i for i in col.value_counts()],\n",
    "        'fréquence':[j for j in col.value_counts(normalize=True)],\n",
    "        'pourcentage':[str(i*100)+' %' for i in col.value_counts(normalize=True) ]\n",
    "    }\n",
    "    df=pd.DataFrame(freqtab,columns=[colname,'effectif','fréquence','pourcentage'])\n",
    "    return df"
   ]
  },
  {
   "cell_type": "markdown",
   "metadata": {},
   "source": [
    "# *Description des variables*"
   ]
  },
  {
   "cell_type": "markdown",
   "metadata": {},
   "source": [
    "## Description de la variable qualitative nominal *sexe*"
   ]
  },
  {
   "cell_type": "markdown",
   "metadata": {},
   "source": [
    "*tableau de fréquence*"
   ]
  },
  {
   "cell_type": "code",
   "execution_count": 7,
   "metadata": {},
   "outputs": [
    {
     "data": {
      "text/html": [
       "<div>\n",
       "<style scoped>\n",
       "    .dataframe tbody tr th:only-of-type {\n",
       "        vertical-align: middle;\n",
       "    }\n",
       "\n",
       "    .dataframe tbody tr th {\n",
       "        vertical-align: top;\n",
       "    }\n",
       "\n",
       "    .dataframe thead th {\n",
       "        text-align: right;\n",
       "    }\n",
       "</style>\n",
       "<table border=\"1\" class=\"dataframe\">\n",
       "  <thead>\n",
       "    <tr style=\"text-align: right;\">\n",
       "      <th></th>\n",
       "      <th>Sexe</th>\n",
       "      <th>effectif</th>\n",
       "      <th>fréquence</th>\n",
       "      <th>pourcentage</th>\n",
       "    </tr>\n",
       "  </thead>\n",
       "  <tbody>\n",
       "    <tr>\n",
       "      <th>0</th>\n",
       "      <td>H</td>\n",
       "      <td>106</td>\n",
       "      <td>0.549223</td>\n",
       "      <td>54.92227979274611 %</td>\n",
       "    </tr>\n",
       "    <tr>\n",
       "      <th>1</th>\n",
       "      <td>F</td>\n",
       "      <td>87</td>\n",
       "      <td>0.450777</td>\n",
       "      <td>45.07772020725388 %</td>\n",
       "    </tr>\n",
       "  </tbody>\n",
       "</table>\n",
       "</div>"
      ],
      "text/plain": [
       "  Sexe  effectif  fréquence          pourcentage\n",
       "0    H       106   0.549223  54.92227979274611 %\n",
       "1    F        87   0.450777  45.07772020725388 %"
      ]
     },
     "execution_count": 7,
     "metadata": {},
     "output_type": "execute_result"
    }
   ],
   "source": [
    "tab1=tableau_freq(sal_entr['Sexe'],'Sexe')\n",
    "tab1"
   ]
  },
  {
   "cell_type": "code",
   "execution_count": 20,
   "metadata": {},
   "outputs": [
    {
     "data": {
      "text/plain": [
       "<AxesSubplot:ylabel='fréquence'>"
      ]
     },
     "execution_count": 20,
     "metadata": {},
     "output_type": "execute_result"
    },
    {
     "data": {
      "image/png": "[encoded data removed]",
      "text/plain": [
       "<Figure size 432x432 with 1 Axes>"
      ]
     },
     "metadata": {},
     "output_type": "display_data"
    }
   ],
   "source": [
    "tab1['fréquence'].plot.pie(labels=['Homme','Femme'],\n",
    "                          colors=[\"b\", \"r\"],\n",
    "                          autopct=\"%.2f\",\n",
    "                          fontsize=20,\n",
    "                          figsize=(6, 6)\n",
    ")"
   ]
  },
  {
   "cell_type": "markdown",
   "metadata": {},
   "source": [
    "#### ***Commentaire***"
   ]
  },
  {
   "cell_type": "markdown",
   "metadata": {},
   "source": [
    "> on trouve ici que le sexe 'Homme' est le dominant"
   ]
  },
  {
   "cell_type": "markdown",
   "metadata": {},
   "source": [
    "## Description de la variable qualitative ordinale *niveau d'études*"
   ]
  },
  {
   "cell_type": "markdown",
   "metadata": {},
   "source": [
    "*tableau de fréquences*"
   ]
  },
  {
   "cell_type": "code",
   "execution_count": 17,
   "metadata": {},
   "outputs": [
    {
     "data": {
      "text/html": [
       "<div>\n",
       "<style scoped>\n",
       "    .dataframe tbody tr th:only-of-type {\n",
       "        vertical-align: middle;\n",
       "    }\n",
       "\n",
       "    .dataframe tbody tr th {\n",
       "        vertical-align: top;\n",
       "    }\n",
       "\n",
       "    .dataframe thead th {\n",
       "        text-align: right;\n",
       "    }\n",
       "</style>\n",
       "<table border=\"1\" class=\"dataframe\">\n",
       "  <thead>\n",
       "    <tr style=\"text-align: right;\">\n",
       "      <th></th>\n",
       "      <th>Niveau d’étude</th>\n",
       "      <th>effectif</th>\n",
       "      <th>fréquence</th>\n",
       "      <th>pourcentage</th>\n",
       "    </tr>\n",
       "  </thead>\n",
       "  <tbody>\n",
       "    <tr>\n",
       "      <th>0</th>\n",
       "      <td>BAC+5</td>\n",
       "      <td>63</td>\n",
       "      <td>0.326425</td>\n",
       "      <td>32.64248704663213 %</td>\n",
       "    </tr>\n",
       "    <tr>\n",
       "      <th>1</th>\n",
       "      <td>BAC+2</td>\n",
       "      <td>42</td>\n",
       "      <td>0.217617</td>\n",
       "      <td>21.761658031088082 %</td>\n",
       "    </tr>\n",
       "    <tr>\n",
       "      <th>2</th>\n",
       "      <td>BAC</td>\n",
       "      <td>36</td>\n",
       "      <td>0.186528</td>\n",
       "      <td>18.65284974093264 %</td>\n",
       "    </tr>\n",
       "    <tr>\n",
       "      <th>3</th>\n",
       "      <td>BAC+3</td>\n",
       "      <td>33</td>\n",
       "      <td>0.170984</td>\n",
       "      <td>17.098445595854923 %</td>\n",
       "    </tr>\n",
       "    <tr>\n",
       "      <th>4</th>\n",
       "      <td>BAC+4</td>\n",
       "      <td>19</td>\n",
       "      <td>0.098446</td>\n",
       "      <td>9.844559585492227 %</td>\n",
       "    </tr>\n",
       "  </tbody>\n",
       "</table>\n",
       "</div>"
      ],
      "text/plain": [
       "  Niveau d’étude  effectif  fréquence           pourcentage\n",
       "0          BAC+5        63   0.326425   32.64248704663213 %\n",
       "1          BAC+2        42   0.217617  21.761658031088082 %\n",
       "2            BAC        36   0.186528   18.65284974093264 %\n",
       "3          BAC+3        33   0.170984  17.098445595854923 %\n",
       "4          BAC+4        19   0.098446   9.844559585492227 %"
      ]
     },
     "execution_count": 17,
     "metadata": {},
     "output_type": "execute_result"
    }
   ],
   "source": [
    "tab2=tableau_freq(sal_entr['Niveau d’étude'],'Niveau d’étude')\n",
    "tab2"
   ]
  },
  {
   "cell_type": "code",
   "execution_count": 208,
   "metadata": {},
   "outputs": [
    {
     "data": {
      "text/plain": [
       "<AxesSubplot:ylabel='fréquence'>"
      ]
     },
     "execution_count": 208,
     "metadata": {},
     "output_type": "execute_result"
    },
    {
     "data": {
      "image/png": "[encoded data removed]",
      "text/plain": [
       "<Figure size 432x432 with 1 Axes>"
      ]
     },
     "metadata": {},
     "output_type": "display_data"
    }
   ],
   "source": [
    "tab2['fréquence'].plot.pie(labels=sal_entr['Niveau d’étude'].drop_duplicates(),\n",
    "                          autopct=\"%.2f\",\n",
    "                          fontsize=20,\n",
    "                          figsize=(6, 6)\n",
    ")"
   ]
  },
  {
   "cell_type": "markdown",
   "metadata": {},
   "source": [
    "#### Commentaire:"
   ]
  },
  {
   "cell_type": "markdown",
   "metadata": {},
   "source": [
    ">on remarque ici que la majorité des employée ont un niveau BAC+2"
   ]
  },
  {
   "cell_type": "markdown",
   "metadata": {},
   "source": [
    "**Affichage du tableau croisée dynamique de sexe et niveau d'études**"
   ]
  },
  {
   "cell_type": "code",
   "execution_count": 199,
   "metadata": {},
   "outputs": [
    {
     "data": {
      "text/html": [
       "<div>\n",
       "<style scoped>\n",
       "    .dataframe tbody tr th:only-of-type {\n",
       "        vertical-align: middle;\n",
       "    }\n",
       "\n",
       "    .dataframe tbody tr th {\n",
       "        vertical-align: top;\n",
       "    }\n",
       "\n",
       "    .dataframe thead th {\n",
       "        text-align: right;\n",
       "    }\n",
       "</style>\n",
       "<table border=\"1\" class=\"dataframe\">\n",
       "  <thead>\n",
       "    <tr style=\"text-align: right;\">\n",
       "      <th></th>\n",
       "      <th></th>\n",
       "      <th>Niveau d’étude</th>\n",
       "    </tr>\n",
       "    <tr>\n",
       "      <th>Niveau d’étude</th>\n",
       "      <th>Sexe</th>\n",
       "      <th></th>\n",
       "    </tr>\n",
       "  </thead>\n",
       "  <tbody>\n",
       "    <tr>\n",
       "      <th rowspan=\"2\" valign=\"top\">BAC</th>\n",
       "      <th>F</th>\n",
       "      <td>17</td>\n",
       "    </tr>\n",
       "    <tr>\n",
       "      <th>H</th>\n",
       "      <td>19</td>\n",
       "    </tr>\n",
       "    <tr>\n",
       "      <th rowspan=\"2\" valign=\"top\">BAC+2</th>\n",
       "      <th>F</th>\n",
       "      <td>23</td>\n",
       "    </tr>\n",
       "    <tr>\n",
       "      <th>H</th>\n",
       "      <td>19</td>\n",
       "    </tr>\n",
       "    <tr>\n",
       "      <th rowspan=\"2\" valign=\"top\">BAC+3</th>\n",
       "      <th>F</th>\n",
       "      <td>14</td>\n",
       "    </tr>\n",
       "    <tr>\n",
       "      <th>H</th>\n",
       "      <td>19</td>\n",
       "    </tr>\n",
       "    <tr>\n",
       "      <th rowspan=\"2\" valign=\"top\">BAC+4</th>\n",
       "      <th>F</th>\n",
       "      <td>26</td>\n",
       "    </tr>\n",
       "    <tr>\n",
       "      <th>H</th>\n",
       "      <td>37</td>\n",
       "    </tr>\n",
       "    <tr>\n",
       "      <th rowspan=\"2\" valign=\"top\">BAC+5</th>\n",
       "      <th>F</th>\n",
       "      <td>7</td>\n",
       "    </tr>\n",
       "    <tr>\n",
       "      <th>H</th>\n",
       "      <td>12</td>\n",
       "    </tr>\n",
       "  </tbody>\n",
       "</table>\n",
       "</div>"
      ],
      "text/plain": [
       "                     Niveau d’étude\n",
       "Niveau d’étude Sexe                \n",
       "BAC            F                 17\n",
       "               H                 19\n",
       "BAC+2          F                 23\n",
       "               H                 19\n",
       "BAC+3          F                 14\n",
       "               H                 19\n",
       "BAC+4          F                 26\n",
       "               H                 37\n",
       "BAC+5          F                  7\n",
       "               H                 12"
      ]
     },
     "execution_count": 199,
     "metadata": {},
     "output_type": "execute_result"
    }
   ],
   "source": [
    "tab3=pd.pivot_table(sal_entr,index=['Niveau d’étude','Sexe'],aggfunc={'Niveau d’étude': len})\n",
    "tab3"
   ]
  },
  {
   "cell_type": "code",
   "execution_count": 33,
   "metadata": {},
   "outputs": [
    {
     "data": {
      "text/plain": [
       "<seaborn.axisgrid.FacetGrid at 0x1dbaee52670>"
      ]
     },
     "execution_count": 33,
     "metadata": {},
     "output_type": "execute_result"
    },
    {
     "data": {
      "image/png": "[encoded data removed]",
      "text/plain": [
       "<Figure size 720x360 with 2 Axes>"
      ]
     },
     "metadata": {
      "needs_background": "light"
     },
     "output_type": "display_data"
    }
   ],
   "source": [
    "sns.displot(sal_entr, x=\"Niveau d’étude\",col=\"Sexe\", multiple=\"dodge\")"
   ]
  },
  {
   "cell_type": "markdown",
   "metadata": {},
   "source": [
    "#### Commentaire:"
   ]
  },
  {
   "cell_type": "markdown",
   "metadata": {},
   "source": [
    "> D'après le tableau et les histogrammes on trouve les hommes ont un bon niveau d'étude par rapport aux femmes"
   ]
  },
  {
   "cell_type": "markdown",
   "metadata": {},
   "source": [
    "## Description de la variable qualitative ordinale *intervalle d'éxperience*"
   ]
  },
  {
   "cell_type": "markdown",
   "metadata": {},
   "source": [
    "*tableau de fréquences*"
   ]
  },
  {
   "cell_type": "code",
   "execution_count": 119,
   "metadata": {},
   "outputs": [
    {
     "data": {
      "text/html": [
       "<div>\n",
       "<style scoped>\n",
       "    .dataframe tbody tr th:only-of-type {\n",
       "        vertical-align: middle;\n",
       "    }\n",
       "\n",
       "    .dataframe tbody tr th {\n",
       "        vertical-align: top;\n",
       "    }\n",
       "\n",
       "    .dataframe thead th {\n",
       "        text-align: right;\n",
       "    }\n",
       "</style>\n",
       "<table border=\"1\" class=\"dataframe\">\n",
       "  <thead>\n",
       "    <tr style=\"text-align: right;\">\n",
       "      <th></th>\n",
       "      <th>intervalle d'expérience</th>\n",
       "      <th>effectif</th>\n",
       "      <th>fréquence</th>\n",
       "      <th>pourcentage</th>\n",
       "    </tr>\n",
       "  </thead>\n",
       "  <tbody>\n",
       "    <tr>\n",
       "      <th>0</th>\n",
       "      <td>[0,1]</td>\n",
       "      <td>26</td>\n",
       "      <td>0.134715</td>\n",
       "      <td>13.471502590673575 %</td>\n",
       "    </tr>\n",
       "    <tr>\n",
       "      <th>1</th>\n",
       "      <td>[1,2]</td>\n",
       "      <td>25</td>\n",
       "      <td>0.129534</td>\n",
       "      <td>12.953367875647666 %</td>\n",
       "    </tr>\n",
       "    <tr>\n",
       "      <th>2</th>\n",
       "      <td>[2,3]</td>\n",
       "      <td>23</td>\n",
       "      <td>0.119171</td>\n",
       "      <td>11.917098445595855 %</td>\n",
       "    </tr>\n",
       "    <tr>\n",
       "      <th>3</th>\n",
       "      <td>[3,4]</td>\n",
       "      <td>23</td>\n",
       "      <td>0.119171</td>\n",
       "      <td>11.917098445595855 %</td>\n",
       "    </tr>\n",
       "    <tr>\n",
       "      <th>4</th>\n",
       "      <td>[4,5]</td>\n",
       "      <td>22</td>\n",
       "      <td>0.113990</td>\n",
       "      <td>11.398963730569948 %</td>\n",
       "    </tr>\n",
       "    <tr>\n",
       "      <th>5</th>\n",
       "      <td>[5,6]</td>\n",
       "      <td>16</td>\n",
       "      <td>0.082902</td>\n",
       "      <td>8.290155440414509 %</td>\n",
       "    </tr>\n",
       "    <tr>\n",
       "      <th>6</th>\n",
       "      <td>[6,7]</td>\n",
       "      <td>16</td>\n",
       "      <td>0.082902</td>\n",
       "      <td>8.290155440414509 %</td>\n",
       "    </tr>\n",
       "    <tr>\n",
       "      <th>7</th>\n",
       "      <td>[7,8]</td>\n",
       "      <td>15</td>\n",
       "      <td>0.077720</td>\n",
       "      <td>7.772020725388601 %</td>\n",
       "    </tr>\n",
       "    <tr>\n",
       "      <th>8</th>\n",
       "      <td>[8,9]</td>\n",
       "      <td>14</td>\n",
       "      <td>0.072539</td>\n",
       "      <td>7.253886010362693 %</td>\n",
       "    </tr>\n",
       "    <tr>\n",
       "      <th>9</th>\n",
       "      <td>[9,10]</td>\n",
       "      <td>13</td>\n",
       "      <td>0.067358</td>\n",
       "      <td>6.7357512953367875 %</td>\n",
       "    </tr>\n",
       "  </tbody>\n",
       "</table>\n",
       "</div>"
      ],
      "text/plain": [
       "  intervalle d'expérience  effectif  fréquence           pourcentage\n",
       "0                   [0,1]        26   0.134715  13.471502590673575 %\n",
       "1                   [1,2]        25   0.129534  12.953367875647666 %\n",
       "2                   [2,3]        23   0.119171  11.917098445595855 %\n",
       "3                   [3,4]        23   0.119171  11.917098445595855 %\n",
       "4                   [4,5]        22   0.113990  11.398963730569948 %\n",
       "5                   [5,6]        16   0.082902   8.290155440414509 %\n",
       "6                   [6,7]        16   0.082902   8.290155440414509 %\n",
       "7                   [7,8]        15   0.077720   7.772020725388601 %\n",
       "8                   [8,9]        14   0.072539   7.253886010362693 %\n",
       "9                  [9,10]        13   0.067358  6.7357512953367875 %"
      ]
     },
     "execution_count": 119,
     "metadata": {},
     "output_type": "execute_result"
    }
   ],
   "source": [
    "tab4=tableau_freq(sal_entr['intervalle d\\'expérience'],'intervalle d\\'expérience')\n",
    "tab4"
   ]
  },
  {
   "cell_type": "code",
   "execution_count": 200,
   "metadata": {},
   "outputs": [
    {
     "data": {
      "text/plain": [
       "<AxesSubplot:ylabel='fréquence'>"
      ]
     },
     "execution_count": 200,
     "metadata": {},
     "output_type": "execute_result"
    },
    {
     "data": {
      "image/png": "[encoded data removed]",
      "text/plain": [
       "<Figure size 432x432 with 1 Axes>"
      ]
     },
     "metadata": {},
     "output_type": "display_data"
    }
   ],
   "source": [
    "tab4['fréquence'].plot.pie(labels=sal_entr['intervalle d\\'expérience'].drop_duplicates(),\n",
    "                          autopct=\"%.2f\",\n",
    "                          fontsize=12,\n",
    "                          figsize=(6, 6)\n",
    ")"
   ]
  },
  {
   "cell_type": "code",
   "execution_count": 202,
   "metadata": {},
   "outputs": [
    {
     "data": {
      "text/html": [
       "<div>\n",
       "<style scoped>\n",
       "    .dataframe tbody tr th:only-of-type {\n",
       "        vertical-align: middle;\n",
       "    }\n",
       "\n",
       "    .dataframe tbody tr th {\n",
       "        vertical-align: top;\n",
       "    }\n",
       "\n",
       "    .dataframe thead tr th {\n",
       "        text-align: left;\n",
       "    }\n",
       "</style>\n",
       "<table border=\"1\" class=\"dataframe\">\n",
       "  <thead>\n",
       "    <tr>\n",
       "      <th>intervalle d'expérience</th>\n",
       "      <th colspan=\"2\" halign=\"left\">[0,1]</th>\n",
       "      <th colspan=\"2\" halign=\"left\">[1,2]</th>\n",
       "      <th colspan=\"2\" halign=\"left\">[2,3]</th>\n",
       "      <th colspan=\"2\" halign=\"left\">[3,4]</th>\n",
       "      <th colspan=\"2\" halign=\"left\">[4,5]</th>\n",
       "      <th colspan=\"2\" halign=\"left\">[5,6]</th>\n",
       "      <th colspan=\"2\" halign=\"left\">[6,7]</th>\n",
       "      <th colspan=\"2\" halign=\"left\">[7,8]</th>\n",
       "      <th colspan=\"2\" halign=\"left\">[8,9]</th>\n",
       "      <th colspan=\"2\" halign=\"left\">[9,10]</th>\n",
       "    </tr>\n",
       "    <tr>\n",
       "      <th>Sexe</th>\n",
       "      <th>F</th>\n",
       "      <th>H</th>\n",
       "      <th>F</th>\n",
       "      <th>H</th>\n",
       "      <th>F</th>\n",
       "      <th>H</th>\n",
       "      <th>F</th>\n",
       "      <th>H</th>\n",
       "      <th>F</th>\n",
       "      <th>H</th>\n",
       "      <th>F</th>\n",
       "      <th>H</th>\n",
       "      <th>F</th>\n",
       "      <th>H</th>\n",
       "      <th>F</th>\n",
       "      <th>H</th>\n",
       "      <th>F</th>\n",
       "      <th>H</th>\n",
       "      <th>F</th>\n",
       "      <th>H</th>\n",
       "    </tr>\n",
       "  </thead>\n",
       "  <tbody>\n",
       "    <tr>\n",
       "      <th>intervalle d'expérience</th>\n",
       "      <td>7</td>\n",
       "      <td>7</td>\n",
       "      <td>8</td>\n",
       "      <td>7</td>\n",
       "      <td>12</td>\n",
       "      <td>13</td>\n",
       "      <td>6</td>\n",
       "      <td>10</td>\n",
       "      <td>8</td>\n",
       "      <td>8</td>\n",
       "      <td>5</td>\n",
       "      <td>8</td>\n",
       "      <td>11</td>\n",
       "      <td>12</td>\n",
       "      <td>13</td>\n",
       "      <td>10</td>\n",
       "      <td>10</td>\n",
       "      <td>12</td>\n",
       "      <td>7</td>\n",
       "      <td>19</td>\n",
       "    </tr>\n",
       "  </tbody>\n",
       "</table>\n",
       "</div>"
      ],
      "text/plain": [
       "intervalle d'expérience [0,1]    [1,2]    [2,3]     [3,4]     [4,5]    [5,6]  \\\n",
       "Sexe                        F  H     F  H     F   H     F   H     F  H     F   \n",
       "intervalle d'expérience     7  7     8  7    12  13     6  10     8  8     5   \n",
       "\n",
       "intervalle d'expérience    [6,7]     [7,8]     [8,9]     [9,10]      \n",
       "Sexe                     H     F   H     F   H     F   H      F   H  \n",
       "intervalle d'expérience  8    11  12    13  10    10  12      7  19  "
      ]
     },
     "execution_count": 202,
     "metadata": {},
     "output_type": "execute_result"
    }
   ],
   "source": [
    "tab5=pd.pivot_table(sal_entr,index=['intervalle d\\'expérience','Sexe'],aggfunc={'intervalle d\\'expérience': len})\n",
    "tab5.transpose()"
   ]
  },
  {
   "cell_type": "code",
   "execution_count": 122,
   "metadata": {},
   "outputs": [
    {
     "data": {
      "text/plain": [
       "<seaborn.axisgrid.FacetGrid at 0x1dbb3ca32e0>"
      ]
     },
     "execution_count": 122,
     "metadata": {},
     "output_type": "execute_result"
    },
    {
     "data": {
      "image/png": "[encoded data removed]",
      "text/plain": [
       "<Figure size 720x360 with 2 Axes>"
      ]
     },
     "metadata": {
      "needs_background": "light"
     },
     "output_type": "display_data"
    }
   ],
   "source": [
    "sns.displot(sal_entr, x='intervalle d\\'expérience',col=\"Sexe\", multiple=\"dodge\")"
   ]
  },
  {
   "cell_type": "markdown",
   "metadata": {},
   "source": [
    "#### Commentaire:"
   ]
  },
  {
   "cell_type": "markdown",
   "metadata": {},
   "source": [
    "> on touve que les hommes dans cette entreprise sont plus expert que les femmes selon le nombre d'année d'expérience"
   ]
  },
  {
   "cell_type": "markdown",
   "metadata": {},
   "source": [
    "## Description de la variable quantitative continue *Salaire net en MAD*"
   ]
  },
  {
   "cell_type": "markdown",
   "metadata": {},
   "source": [
    "*calcul du moyenne, écart type,les quartilles ...*"
   ]
  },
  {
   "cell_type": "code",
   "execution_count": 111,
   "metadata": {},
   "outputs": [
    {
     "data": {
      "text/plain": [
       "count      193.000000\n",
       "mean      5109.102782\n",
       "std       2024.794516\n",
       "min       2931.153372\n",
       "25%       3707.784942\n",
       "50%       4430.486500\n",
       "75%       5800.973086\n",
       "max      11866.788509\n",
       "Name: Salaire net en MAD, dtype: float64"
      ]
     },
     "execution_count": 111,
     "metadata": {},
     "output_type": "execute_result"
    }
   ],
   "source": [
    "tab6=sal_entr['Salaire net en MAD'].describe()\n",
    "tab6"
   ]
  },
  {
   "cell_type": "markdown",
   "metadata": {},
   "source": [
    "*Affichons la boite à moustache correspendantes*"
   ]
  },
  {
   "cell_type": "code",
   "execution_count": 16,
   "metadata": {},
   "outputs": [
    {
     "data": {
      "text/plain": [
       "<AxesSubplot:>"
      ]
     },
     "execution_count": 16,
     "metadata": {},
     "output_type": "execute_result"
    },
    {
     "data": {
      "image/png": "[encoded data removed]",
      "text/plain": [
       "<Figure size 432x288 with 1 Axes>"
      ]
     },
     "metadata": {
      "needs_background": "light"
     },
     "output_type": "display_data"
    }
   ],
   "source": [
    "sal_entr['Salaire net en MAD'].plot.box()"
   ]
  },
  {
   "cell_type": "markdown",
   "metadata": {},
   "source": [
    "#### Commentaire:"
   ]
  },
  {
   "cell_type": "markdown",
   "metadata": {},
   "source": [
    "> D'aprés cette boite à moustaches on trouve qu'il ya des points abérrants qui peuvent affecter notre étude."
   ]
  },
  {
   "cell_type": "markdown",
   "metadata": {},
   "source": [
    "#### Etudions l'effet du Sexe sur le salaire"
   ]
  },
  {
   "cell_type": "code",
   "execution_count": 85,
   "metadata": {},
   "outputs": [
    {
     "data": {
      "text/html": [
       "<div>\n",
       "<style scoped>\n",
       "    .dataframe tbody tr th:only-of-type {\n",
       "        vertical-align: middle;\n",
       "    }\n",
       "\n",
       "    .dataframe tbody tr th {\n",
       "        vertical-align: top;\n",
       "    }\n",
       "\n",
       "    .dataframe thead tr th {\n",
       "        text-align: left;\n",
       "    }\n",
       "\n",
       "    .dataframe thead tr:last-of-type th {\n",
       "        text-align: right;\n",
       "    }\n",
       "</style>\n",
       "<table border=\"1\" class=\"dataframe\">\n",
       "  <thead>\n",
       "    <tr>\n",
       "      <th></th>\n",
       "      <th colspan=\"3\" halign=\"left\">Salaire net en MAD</th>\n",
       "    </tr>\n",
       "    <tr>\n",
       "      <th></th>\n",
       "      <th>max</th>\n",
       "      <th>mean</th>\n",
       "      <th>min</th>\n",
       "    </tr>\n",
       "    <tr>\n",
       "      <th>Sexe</th>\n",
       "      <th></th>\n",
       "      <th></th>\n",
       "      <th></th>\n",
       "    </tr>\n",
       "  </thead>\n",
       "  <tbody>\n",
       "    <tr>\n",
       "      <th>F</th>\n",
       "      <td>11827.859261</td>\n",
       "      <td>4896.017985</td>\n",
       "      <td>2949.500143</td>\n",
       "    </tr>\n",
       "    <tr>\n",
       "      <th>H</th>\n",
       "      <td>11866.788509</td>\n",
       "      <td>5283.993134</td>\n",
       "      <td>2931.153372</td>\n",
       "    </tr>\n",
       "  </tbody>\n",
       "</table>\n",
       "</div>"
      ],
      "text/plain": [
       "     Salaire net en MAD                          \n",
       "                    max         mean          min\n",
       "Sexe                                             \n",
       "F          11827.859261  4896.017985  2949.500143\n",
       "H          11866.788509  5283.993134  2931.153372"
      ]
     },
     "execution_count": 85,
     "metadata": {},
     "output_type": "execute_result"
    }
   ],
   "source": [
    "tab7=pd.pivot_table(sal_entr,index=['Sexe'],values=['Salaire net en MAD'],aggfunc={'Salaire net en MAD':[min,max,np.mean]})\n",
    "tab7"
   ]
  },
  {
   "cell_type": "code",
   "execution_count": 90,
   "metadata": {},
   "outputs": [
    {
     "data": {
      "text/plain": [
       "<AxesSubplot:xlabel='Sexe'>"
      ]
     },
     "execution_count": 90,
     "metadata": {},
     "output_type": "execute_result"
    },
    {
     "data": {
      "image/png": "[encoded data removed]",
      "text/plain": [
       "<Figure size 432x288 with 1 Axes>"
      ]
     },
     "metadata": {
      "needs_background": "light"
     },
     "output_type": "display_data"
    }
   ],
   "source": [
    "tab7.plot(kind='bar')"
   ]
  },
  {
   "cell_type": "markdown",
   "metadata": {},
   "source": [
    "#### Commentaire:"
   ]
  },
  {
   "cell_type": "markdown",
   "metadata": {},
   "source": [
    "> on remarque que le Sexe n'a pas une grande influence sur la répartition des salaires"
   ]
  },
  {
   "cell_type": "markdown",
   "metadata": {},
   "source": [
    "#### Etudions l'effet de l'intervalle d'expérience sur le salaire"
   ]
  },
  {
   "cell_type": "code",
   "execution_count": 127,
   "metadata": {},
   "outputs": [
    {
     "data": {
      "text/html": [
       "<div>\n",
       "<style scoped>\n",
       "    .dataframe tbody tr th:only-of-type {\n",
       "        vertical-align: middle;\n",
       "    }\n",
       "\n",
       "    .dataframe tbody tr th {\n",
       "        vertical-align: top;\n",
       "    }\n",
       "\n",
       "    .dataframe thead th {\n",
       "        text-align: right;\n",
       "    }\n",
       "</style>\n",
       "<table border=\"1\" class=\"dataframe\">\n",
       "  <thead>\n",
       "    <tr style=\"text-align: right;\">\n",
       "      <th></th>\n",
       "      <th>intervalle d'expérience</th>\n",
       "      <th>[0,1]</th>\n",
       "      <th>[1,2]</th>\n",
       "      <th>[2,3]</th>\n",
       "      <th>[3,4]</th>\n",
       "      <th>[4,5]</th>\n",
       "      <th>[5,6]</th>\n",
       "      <th>[6,7]</th>\n",
       "      <th>[7,8]</th>\n",
       "      <th>[8,9]</th>\n",
       "      <th>[9,10]</th>\n",
       "    </tr>\n",
       "  </thead>\n",
       "  <tbody>\n",
       "    <tr>\n",
       "      <th rowspan=\"3\" valign=\"top\">Salaire net en MAD</th>\n",
       "      <th>max</th>\n",
       "      <td>8040.216588</td>\n",
       "      <td>5623.244377</td>\n",
       "      <td>8251.006451</td>\n",
       "      <td>10239.151854</td>\n",
       "      <td>10287.756880</td>\n",
       "      <td>5961.484132</td>\n",
       "      <td>11570.984148</td>\n",
       "      <td>11396.563014</td>\n",
       "      <td>11528.992437</td>\n",
       "      <td>11866.788509</td>\n",
       "    </tr>\n",
       "    <tr>\n",
       "      <th>mean</th>\n",
       "      <td>4466.607343</td>\n",
       "      <td>4518.133332</td>\n",
       "      <td>4720.549954</td>\n",
       "      <td>4920.343333</td>\n",
       "      <td>4791.356399</td>\n",
       "      <td>4900.281799</td>\n",
       "      <td>5286.842398</td>\n",
       "      <td>5095.309611</td>\n",
       "      <td>5232.427376</td>\n",
       "      <td>6336.339527</td>\n",
       "    </tr>\n",
       "    <tr>\n",
       "      <th>min</th>\n",
       "      <td>2931.153372</td>\n",
       "      <td>3007.697158</td>\n",
       "      <td>3014.434769</td>\n",
       "      <td>3013.290222</td>\n",
       "      <td>3210.132486</td>\n",
       "      <td>3295.238535</td>\n",
       "      <td>3164.586471</td>\n",
       "      <td>3109.736941</td>\n",
       "      <td>3143.531064</td>\n",
       "      <td>3068.914403</td>\n",
       "    </tr>\n",
       "  </tbody>\n",
       "</table>\n",
       "</div>"
      ],
      "text/plain": [
       "intervalle d'expérience        [0,1]        [1,2]        [2,3]         [3,4]  \\\n",
       "Salaire net en MAD max   8040.216588  5623.244377  8251.006451  10239.151854   \n",
       "                   mean  4466.607343  4518.133332  4720.549954   4920.343333   \n",
       "                   min   2931.153372  3007.697158  3014.434769   3013.290222   \n",
       "\n",
       "intervalle d'expérience         [4,5]        [5,6]         [6,7]  \\\n",
       "Salaire net en MAD max   10287.756880  5961.484132  11570.984148   \n",
       "                   mean   4791.356399  4900.281799   5286.842398   \n",
       "                   min    3210.132486  3295.238535   3164.586471   \n",
       "\n",
       "intervalle d'expérience         [7,8]         [8,9]        [9,10]  \n",
       "Salaire net en MAD max   11396.563014  11528.992437  11866.788509  \n",
       "                   mean   5095.309611   5232.427376   6336.339527  \n",
       "                   min    3109.736941   3143.531064   3068.914403  "
      ]
     },
     "execution_count": 127,
     "metadata": {},
     "output_type": "execute_result"
    }
   ],
   "source": [
    "tab8=pd.pivot_table(sal_entr,index=['intervalle d\\'expérience'],values=['Salaire net en MAD'],aggfunc={'Salaire net en MAD':[min,max,np.mean]})\n",
    "tab8.transpose()"
   ]
  },
  {
   "cell_type": "code",
   "execution_count": 203,
   "metadata": {},
   "outputs": [
    {
     "data": {
      "text/plain": [
       "<AxesSubplot:xlabel=\"intervalle d'expérience\">"
      ]
     },
     "execution_count": 203,
     "metadata": {},
     "output_type": "execute_result"
    },
    {
     "data": {
      "image/png": "[encoded data removed]",
      "text/plain": [
       "<Figure size 432x288 with 1 Axes>"
      ]
     },
     "metadata": {
      "needs_background": "light"
     },
     "output_type": "display_data"
    }
   ],
   "source": [
    "tab8.plot(kind='bar')"
   ]
  },
  {
   "cell_type": "markdown",
   "metadata": {},
   "source": [
    "#### Commentaire:"
   ]
  },
  {
   "cell_type": "markdown",
   "metadata": {},
   "source": [
    ">on remarque que l'expérience de l'employée à un effet sur le salaire , car d'aprés le tableau et les histogrammes on trouve que lorsque l'expérience est maximal le minimum et la moyenne des salaires est maximales."
   ]
  },
  {
   "cell_type": "markdown",
   "metadata": {},
   "source": [
    "#### Etudions l'effet de Niveau d'études sur le salaire"
   ]
  },
  {
   "cell_type": "code",
   "execution_count": 131,
   "metadata": {},
   "outputs": [
    {
     "data": {
      "text/html": [
       "<div>\n",
       "<style scoped>\n",
       "    .dataframe tbody tr th:only-of-type {\n",
       "        vertical-align: middle;\n",
       "    }\n",
       "\n",
       "    .dataframe tbody tr th {\n",
       "        vertical-align: top;\n",
       "    }\n",
       "\n",
       "    .dataframe thead th {\n",
       "        text-align: right;\n",
       "    }\n",
       "</style>\n",
       "<table border=\"1\" class=\"dataframe\">\n",
       "  <thead>\n",
       "    <tr style=\"text-align: right;\">\n",
       "      <th></th>\n",
       "      <th>Niveau d’étude</th>\n",
       "      <th>BAC</th>\n",
       "      <th>BAC+2</th>\n",
       "      <th>BAC+3</th>\n",
       "      <th>BAC+4</th>\n",
       "      <th>BAC+5</th>\n",
       "    </tr>\n",
       "  </thead>\n",
       "  <tbody>\n",
       "    <tr>\n",
       "      <th rowspan=\"3\" valign=\"top\">Salaire net en MAD</th>\n",
       "      <th>max</th>\n",
       "      <td>3662.816534</td>\n",
       "      <td>4404.275433</td>\n",
       "      <td>5071.791234</td>\n",
       "      <td>6280.179180</td>\n",
       "      <td>11866.788509</td>\n",
       "    </tr>\n",
       "    <tr>\n",
       "      <th>mean</th>\n",
       "      <td>3224.077591</td>\n",
       "      <td>3845.029717</td>\n",
       "      <td>4471.746350</td>\n",
       "      <td>5822.455085</td>\n",
       "      <td>10216.657661</td>\n",
       "    </tr>\n",
       "    <tr>\n",
       "      <th>min</th>\n",
       "      <td>2931.153372</td>\n",
       "      <td>3601.932341</td>\n",
       "      <td>4209.767998</td>\n",
       "      <td>5534.340408</td>\n",
       "      <td>8039.054048</td>\n",
       "    </tr>\n",
       "  </tbody>\n",
       "</table>\n",
       "</div>"
      ],
      "text/plain": [
       "Niveau d’étude                   BAC        BAC+2        BAC+3        BAC+4  \\\n",
       "Salaire net en MAD max   3662.816534  4404.275433  5071.791234  6280.179180   \n",
       "                   mean  3224.077591  3845.029717  4471.746350  5822.455085   \n",
       "                   min   2931.153372  3601.932341  4209.767998  5534.340408   \n",
       "\n",
       "Niveau d’étude                  BAC+5  \n",
       "Salaire net en MAD max   11866.788509  \n",
       "                   mean  10216.657661  \n",
       "                   min    8039.054048  "
      ]
     },
     "execution_count": 131,
     "metadata": {},
     "output_type": "execute_result"
    }
   ],
   "source": [
    "tab9=pd.pivot_table(sal_entr,index=['Niveau d’étude'],values=['Salaire net en MAD'],aggfunc={'Salaire net en MAD':[min,max,np.mean]})\n",
    "tab9.transpose()"
   ]
  },
  {
   "cell_type": "code",
   "execution_count": 132,
   "metadata": {},
   "outputs": [
    {
     "data": {
      "text/plain": [
       "<AxesSubplot:xlabel='Niveau d’étude'>"
      ]
     },
     "execution_count": 132,
     "metadata": {},
     "output_type": "execute_result"
    },
    {
     "data": {
      "image/png": "[encoded data removed]",
      "text/plain": [
       "<Figure size 432x288 with 1 Axes>"
      ]
     },
     "metadata": {
      "needs_background": "light"
     },
     "output_type": "display_data"
    }
   ],
   "source": [
    "tab9.plot(kind='bar')"
   ]
  },
  {
   "cell_type": "markdown",
   "metadata": {},
   "source": [
    "#### Commentaire:"
   ]
  },
  {
   "cell_type": "markdown",
   "metadata": {},
   "source": [
    "> on trouve ici que le niveau d'études à un grand effet sur le salaire. En effet si l'employée possède un bon niveau d'études alors il y aura plus de chance pour qu'il reçoit un bon salaire"
   ]
  },
  {
   "cell_type": "markdown",
   "metadata": {},
   "source": [
    "#### Etudions l'effet du sexe et nombre d'années d'expérience sur le salaire"
   ]
  },
  {
   "cell_type": "code",
   "execution_count": 133,
   "metadata": {},
   "outputs": [
    {
     "data": {
      "text/html": [
       "<div>\n",
       "<style scoped>\n",
       "    .dataframe tbody tr th:only-of-type {\n",
       "        vertical-align: middle;\n",
       "    }\n",
       "\n",
       "    .dataframe tbody tr th {\n",
       "        vertical-align: top;\n",
       "    }\n",
       "\n",
       "    .dataframe thead tr th {\n",
       "        text-align: left;\n",
       "    }\n",
       "</style>\n",
       "<table border=\"1\" class=\"dataframe\">\n",
       "  <thead>\n",
       "    <tr>\n",
       "      <th>intervalle d'expérience</th>\n",
       "      <th colspan=\"2\" halign=\"left\">[0,1]</th>\n",
       "      <th colspan=\"2\" halign=\"left\">[1,2]</th>\n",
       "      <th colspan=\"2\" halign=\"left\">[2,3]</th>\n",
       "      <th colspan=\"2\" halign=\"left\">[3,4]</th>\n",
       "      <th colspan=\"2\" halign=\"left\">[4,5]</th>\n",
       "      <th colspan=\"2\" halign=\"left\">[5,6]</th>\n",
       "      <th colspan=\"2\" halign=\"left\">[6,7]</th>\n",
       "      <th colspan=\"2\" halign=\"left\">[7,8]</th>\n",
       "      <th colspan=\"2\" halign=\"left\">[8,9]</th>\n",
       "      <th colspan=\"2\" halign=\"left\">[9,10]</th>\n",
       "    </tr>\n",
       "    <tr>\n",
       "      <th>Sexe</th>\n",
       "      <th>F</th>\n",
       "      <th>H</th>\n",
       "      <th>F</th>\n",
       "      <th>H</th>\n",
       "      <th>F</th>\n",
       "      <th>H</th>\n",
       "      <th>F</th>\n",
       "      <th>H</th>\n",
       "      <th>F</th>\n",
       "      <th>H</th>\n",
       "      <th>F</th>\n",
       "      <th>H</th>\n",
       "      <th>F</th>\n",
       "      <th>H</th>\n",
       "      <th>F</th>\n",
       "      <th>H</th>\n",
       "      <th>F</th>\n",
       "      <th>H</th>\n",
       "      <th>F</th>\n",
       "      <th>H</th>\n",
       "    </tr>\n",
       "  </thead>\n",
       "  <tbody>\n",
       "    <tr>\n",
       "      <th>Salaire net en MAD</th>\n",
       "      <td>5141.006588</td>\n",
       "      <td>3792.208099</td>\n",
       "      <td>4331.887008</td>\n",
       "      <td>4730.986274</td>\n",
       "      <td>4333.479914</td>\n",
       "      <td>5077.845376</td>\n",
       "      <td>5716.786452</td>\n",
       "      <td>4442.477461</td>\n",
       "      <td>5351.0044</td>\n",
       "      <td>4231.708398</td>\n",
       "      <td>4245.702737</td>\n",
       "      <td>5309.393712</td>\n",
       "      <td>4690.744485</td>\n",
       "      <td>5833.265485</td>\n",
       "      <td>4859.304285</td>\n",
       "      <td>5402.116536</td>\n",
       "      <td>4475.526955</td>\n",
       "      <td>5863.177726</td>\n",
       "      <td>6492.568767</td>\n",
       "      <td>6278.781385</td>\n",
       "    </tr>\n",
       "  </tbody>\n",
       "</table>\n",
       "</div>"
      ],
      "text/plain": [
       "intervalle d'expérience        [0,1]                     [1,2]               \\\n",
       "Sexe                               F            H            F            H   \n",
       "Salaire net en MAD       5141.006588  3792.208099  4331.887008  4730.986274   \n",
       "\n",
       "intervalle d'expérience        [2,3]                     [3,4]               \\\n",
       "Sexe                               F            H            F            H   \n",
       "Salaire net en MAD       4333.479914  5077.845376  5716.786452  4442.477461   \n",
       "\n",
       "intervalle d'expérience      [4,5]                     [5,6]               \\\n",
       "Sexe                             F            H            F            H   \n",
       "Salaire net en MAD       5351.0044  4231.708398  4245.702737  5309.393712   \n",
       "\n",
       "intervalle d'expérience        [6,7]                     [7,8]               \\\n",
       "Sexe                               F            H            F            H   \n",
       "Salaire net en MAD       4690.744485  5833.265485  4859.304285  5402.116536   \n",
       "\n",
       "intervalle d'expérience        [8,9]                    [9,10]               \n",
       "Sexe                               F            H            F            H  \n",
       "Salaire net en MAD       4475.526955  5863.177726  6492.568767  6278.781385  "
      ]
     },
     "execution_count": 133,
     "metadata": {},
     "output_type": "execute_result"
    }
   ],
   "source": [
    "tab10=pd.pivot_table(sal_entr,index=['intervalle d\\'expérience','Sexe'],aggfunc={'Salaire net en MAD': np.mean})\n",
    "tab10.transpose()"
   ]
  },
  {
   "cell_type": "code",
   "execution_count": 54,
   "metadata": {},
   "outputs": [
    {
     "data": {
      "text/plain": [
       "<seaborn.axisgrid.FacetGrid at 0x1dbb0734df0>"
      ]
     },
     "execution_count": 54,
     "metadata": {},
     "output_type": "execute_result"
    },
    {
     "data": {
      "image/png": "[encoded data removed]",
      "text/plain": [
       "<Figure size 432x216 with 2 Axes>"
      ]
     },
     "metadata": {
      "needs_background": "light"
     },
     "output_type": "display_data"
    }
   ],
   "source": [
    "g = sns.FacetGrid(sal_entr, col=\"Sexe\", margin_titles=True,)\n",
    "g.map(plt.scatter, \"Nb année d’expérience\", \"Salaire net en MAD\")"
   ]
  },
  {
   "cell_type": "code",
   "execution_count": 134,
   "metadata": {},
   "outputs": [
    {
     "data": {
      "text/html": [
       "<div>\n",
       "<style scoped>\n",
       "    .dataframe tbody tr th:only-of-type {\n",
       "        vertical-align: middle;\n",
       "    }\n",
       "\n",
       "    .dataframe tbody tr th {\n",
       "        vertical-align: top;\n",
       "    }\n",
       "\n",
       "    .dataframe thead tr th {\n",
       "        text-align: left;\n",
       "    }\n",
       "</style>\n",
       "<table border=\"1\" class=\"dataframe\">\n",
       "  <thead>\n",
       "    <tr>\n",
       "      <th></th>\n",
       "      <th>intervalle d'expérience</th>\n",
       "      <th colspan=\"2\" halign=\"left\">[0,1]</th>\n",
       "      <th colspan=\"2\" halign=\"left\">[1,2]</th>\n",
       "      <th colspan=\"2\" halign=\"left\">[2,3]</th>\n",
       "      <th colspan=\"2\" halign=\"left\">[3,4]</th>\n",
       "      <th colspan=\"2\" halign=\"left\">[4,5]</th>\n",
       "      <th colspan=\"2\" halign=\"left\">[5,6]</th>\n",
       "      <th colspan=\"2\" halign=\"left\">[6,7]</th>\n",
       "      <th colspan=\"2\" halign=\"left\">[7,8]</th>\n",
       "      <th colspan=\"2\" halign=\"left\">[8,9]</th>\n",
       "      <th colspan=\"2\" halign=\"left\">[9,10]</th>\n",
       "    </tr>\n",
       "    <tr>\n",
       "      <th></th>\n",
       "      <th>Sexe</th>\n",
       "      <th>F</th>\n",
       "      <th>H</th>\n",
       "      <th>F</th>\n",
       "      <th>H</th>\n",
       "      <th>F</th>\n",
       "      <th>H</th>\n",
       "      <th>F</th>\n",
       "      <th>H</th>\n",
       "      <th>F</th>\n",
       "      <th>H</th>\n",
       "      <th>F</th>\n",
       "      <th>H</th>\n",
       "      <th>F</th>\n",
       "      <th>H</th>\n",
       "      <th>F</th>\n",
       "      <th>H</th>\n",
       "      <th>F</th>\n",
       "      <th>H</th>\n",
       "      <th>F</th>\n",
       "      <th>H</th>\n",
       "    </tr>\n",
       "  </thead>\n",
       "  <tbody>\n",
       "    <tr>\n",
       "      <th rowspan=\"3\" valign=\"top\">Salaire net en MAD</th>\n",
       "      <th>max</th>\n",
       "      <td>8040.216588</td>\n",
       "      <td>5547.985589</td>\n",
       "      <td>5623.244377</td>\n",
       "      <td>5614.485833</td>\n",
       "      <td>5736.806785</td>\n",
       "      <td>8251.006451</td>\n",
       "      <td>10239.151854</td>\n",
       "      <td>5781.423363</td>\n",
       "      <td>10287.756880</td>\n",
       "      <td>5882.005753</td>\n",
       "      <td>5769.060936</td>\n",
       "      <td>5961.484132</td>\n",
       "      <td>5989.730887</td>\n",
       "      <td>11570.984148</td>\n",
       "      <td>6280.179180</td>\n",
       "      <td>11396.563014</td>\n",
       "      <td>5936.093838</td>\n",
       "      <td>11528.992437</td>\n",
       "      <td>11827.859261</td>\n",
       "      <td>11866.788509</td>\n",
       "    </tr>\n",
       "    <tr>\n",
       "      <th>mean</th>\n",
       "      <td>5141.006588</td>\n",
       "      <td>3792.208099</td>\n",
       "      <td>4331.887008</td>\n",
       "      <td>4730.986274</td>\n",
       "      <td>4333.479914</td>\n",
       "      <td>5077.845376</td>\n",
       "      <td>5716.786452</td>\n",
       "      <td>4442.477461</td>\n",
       "      <td>5351.004400</td>\n",
       "      <td>4231.708398</td>\n",
       "      <td>4245.702737</td>\n",
       "      <td>5309.393712</td>\n",
       "      <td>4690.744485</td>\n",
       "      <td>5833.265485</td>\n",
       "      <td>4859.304285</td>\n",
       "      <td>5402.116536</td>\n",
       "      <td>4475.526955</td>\n",
       "      <td>5863.177726</td>\n",
       "      <td>6492.568767</td>\n",
       "      <td>6278.781385</td>\n",
       "    </tr>\n",
       "    <tr>\n",
       "      <th>min</th>\n",
       "      <td>2949.500143</td>\n",
       "      <td>2931.153372</td>\n",
       "      <td>3007.697158</td>\n",
       "      <td>3623.281203</td>\n",
       "      <td>3014.434769</td>\n",
       "      <td>3055.704735</td>\n",
       "      <td>3709.793844</td>\n",
       "      <td>3013.290222</td>\n",
       "      <td>3210.132486</td>\n",
       "      <td>3259.642142</td>\n",
       "      <td>3295.238535</td>\n",
       "      <td>3317.036142</td>\n",
       "      <td>3217.944988</td>\n",
       "      <td>3164.586471</td>\n",
       "      <td>3109.736941</td>\n",
       "      <td>3337.581870</td>\n",
       "      <td>3143.531064</td>\n",
       "      <td>3844.410381</td>\n",
       "      <td>3901.444251</td>\n",
       "      <td>3068.914403</td>\n",
       "    </tr>\n",
       "  </tbody>\n",
       "</table>\n",
       "</div>"
      ],
      "text/plain": [
       "intervalle d'expérience        [0,1]                     [1,2]               \\\n",
       "Sexe                               F            H            F            H   \n",
       "Salaire net en MAD max   8040.216588  5547.985589  5623.244377  5614.485833   \n",
       "                   mean  5141.006588  3792.208099  4331.887008  4730.986274   \n",
       "                   min   2949.500143  2931.153372  3007.697158  3623.281203   \n",
       "\n",
       "intervalle d'expérience        [2,3]                      [3,4]               \\\n",
       "Sexe                               F            H             F            H   \n",
       "Salaire net en MAD max   5736.806785  8251.006451  10239.151854  5781.423363   \n",
       "                   mean  4333.479914  5077.845376   5716.786452  4442.477461   \n",
       "                   min   3014.434769  3055.704735   3709.793844  3013.290222   \n",
       "\n",
       "intervalle d'expérience         [4,5]                     [5,6]               \\\n",
       "Sexe                                F            H            F            H   \n",
       "Salaire net en MAD max   10287.756880  5882.005753  5769.060936  5961.484132   \n",
       "                   mean   5351.004400  4231.708398  4245.702737  5309.393712   \n",
       "                   min    3210.132486  3259.642142  3295.238535  3317.036142   \n",
       "\n",
       "intervalle d'expérience        [6,7]                      [7,8]                \\\n",
       "Sexe                               F             H            F             H   \n",
       "Salaire net en MAD max   5989.730887  11570.984148  6280.179180  11396.563014   \n",
       "                   mean  4690.744485   5833.265485  4859.304285   5402.116536   \n",
       "                   min   3217.944988   3164.586471  3109.736941   3337.581870   \n",
       "\n",
       "intervalle d'expérience        [8,9]                      [9,10]                \n",
       "Sexe                               F             H             F             H  \n",
       "Salaire net en MAD max   5936.093838  11528.992437  11827.859261  11866.788509  \n",
       "                   mean  4475.526955   5863.177726   6492.568767   6278.781385  \n",
       "                   min   3143.531064   3844.410381   3901.444251   3068.914403  "
      ]
     },
     "execution_count": 134,
     "metadata": {},
     "output_type": "execute_result"
    }
   ],
   "source": [
    "tab11=pd.pivot_table(sal_entr,index=['intervalle d\\'expérience','Sexe'],values=['Salaire net en MAD'],aggfunc={'Salaire net en MAD':[min,max,np.mean]})\n",
    "tab11.transpose()"
   ]
  },
  {
   "cell_type": "code",
   "execution_count": 125,
   "metadata": {},
   "outputs": [
    {
     "data": {
      "text/plain": [
       "<AxesSubplot:xlabel='Salaire net en MAD', ylabel=\"intervalle d'expérience\">"
      ]
     },
     "execution_count": 125,
     "metadata": {},
     "output_type": "execute_result"
    },
    {
     "data": {
      "image/png": "[encoded data removed]",
      "text/plain": [
       "<Figure size 432x288 with 1 Axes>"
      ]
     },
     "metadata": {
      "needs_background": "light"
     },
     "output_type": "display_data"
    }
   ],
   "source": [
    "sns.boxplot(y='intervalle d\\'expérience',\n",
    "            x=\"Salaire net en MAD\", hue=\"Sexe\", \n",
    "            data=sal_entr.sort_values(by=['intervalle d\\'expérience'])\n",
    "            ,orient=\"h\", \n",
    "            palette=\"Set2\",)"
   ]
  },
  {
   "cell_type": "markdown",
   "metadata": {},
   "source": [
    "#### Commentaire:"
   ]
  },
  {
   "cell_type": "markdown",
   "metadata": {},
   "source": [
    ">D’après la dernière figure des boites à moustaches et le tableau croisé dynamique, on trouve que pour les femmes ayant un intervalle d’expérience [9,10], il y a une grande dispersion, où la majorité des femmes ont un salaire supérieur au salaire moyenne et le salaire est maximale par rapport aux hommes. Aussi on trouve que pour les femmes avec une expérience moins d’un an sont bien payé que les hommes."
   ]
  },
  {
   "cell_type": "markdown",
   "metadata": {},
   "source": [
    "#### Etudions l'effet du sexe et niveau d'études sur le salaire"
   ]
  },
  {
   "cell_type": "code",
   "execution_count": 138,
   "metadata": {},
   "outputs": [
    {
     "data": {
      "text/html": [
       "<div>\n",
       "<style scoped>\n",
       "    .dataframe tbody tr th:only-of-type {\n",
       "        vertical-align: middle;\n",
       "    }\n",
       "\n",
       "    .dataframe tbody tr th {\n",
       "        vertical-align: top;\n",
       "    }\n",
       "\n",
       "    .dataframe thead tr th {\n",
       "        text-align: left;\n",
       "    }\n",
       "</style>\n",
       "<table border=\"1\" class=\"dataframe\">\n",
       "  <thead>\n",
       "    <tr>\n",
       "      <th></th>\n",
       "      <th>Niveau d’étude</th>\n",
       "      <th colspan=\"2\" halign=\"left\">BAC</th>\n",
       "      <th colspan=\"2\" halign=\"left\">BAC+2</th>\n",
       "      <th colspan=\"2\" halign=\"left\">BAC+3</th>\n",
       "      <th colspan=\"2\" halign=\"left\">BAC+4</th>\n",
       "      <th colspan=\"2\" halign=\"left\">BAC+5</th>\n",
       "    </tr>\n",
       "    <tr>\n",
       "      <th></th>\n",
       "      <th>Sexe</th>\n",
       "      <th>F</th>\n",
       "      <th>H</th>\n",
       "      <th>F</th>\n",
       "      <th>H</th>\n",
       "      <th>F</th>\n",
       "      <th>H</th>\n",
       "      <th>F</th>\n",
       "      <th>H</th>\n",
       "      <th>F</th>\n",
       "      <th>H</th>\n",
       "    </tr>\n",
       "  </thead>\n",
       "  <tbody>\n",
       "    <tr>\n",
       "      <th rowspan=\"3\" valign=\"top\">Salaire net en MAD</th>\n",
       "      <th>max</th>\n",
       "      <td>3662.816534</td>\n",
       "      <td>3526.650053</td>\n",
       "      <td>4404.275433</td>\n",
       "      <td>4344.463222</td>\n",
       "      <td>4664.202104</td>\n",
       "      <td>5071.791234</td>\n",
       "      <td>6280.179180</td>\n",
       "      <td>6273.124876</td>\n",
       "      <td>11827.859261</td>\n",
       "      <td>11866.788509</td>\n",
       "    </tr>\n",
       "    <tr>\n",
       "      <th>mean</th>\n",
       "      <td>3240.089811</td>\n",
       "      <td>3209.750869</td>\n",
       "      <td>3852.838025</td>\n",
       "      <td>3835.577555</td>\n",
       "      <td>4392.028258</td>\n",
       "      <td>4530.485997</td>\n",
       "      <td>5817.721106</td>\n",
       "      <td>5825.781665</td>\n",
       "      <td>9929.659855</td>\n",
       "      <td>10384.073048</td>\n",
       "    </tr>\n",
       "    <tr>\n",
       "      <th>min</th>\n",
       "      <td>2949.500143</td>\n",
       "      <td>2931.153372</td>\n",
       "      <td>3601.932341</td>\n",
       "      <td>3609.565454</td>\n",
       "      <td>4209.767998</td>\n",
       "      <td>4212.363862</td>\n",
       "      <td>5536.016294</td>\n",
       "      <td>5534.340408</td>\n",
       "      <td>8039.054048</td>\n",
       "      <td>8085.869605</td>\n",
       "    </tr>\n",
       "  </tbody>\n",
       "</table>\n",
       "</div>"
      ],
      "text/plain": [
       "Niveau d’étude                   BAC                     BAC+2               \\\n",
       "Sexe                               F            H            F            H   \n",
       "Salaire net en MAD max   3662.816534  3526.650053  4404.275433  4344.463222   \n",
       "                   mean  3240.089811  3209.750869  3852.838025  3835.577555   \n",
       "                   min   2949.500143  2931.153372  3601.932341  3609.565454   \n",
       "\n",
       "Niveau d’étude                 BAC+3                     BAC+4               \\\n",
       "Sexe                               F            H            F            H   \n",
       "Salaire net en MAD max   4664.202104  5071.791234  6280.179180  6273.124876   \n",
       "                   mean  4392.028258  4530.485997  5817.721106  5825.781665   \n",
       "                   min   4209.767998  4212.363862  5536.016294  5534.340408   \n",
       "\n",
       "Niveau d’étude                  BAC+5                \n",
       "Sexe                                F             H  \n",
       "Salaire net en MAD max   11827.859261  11866.788509  \n",
       "                   mean   9929.659855  10384.073048  \n",
       "                   min    8039.054048   8085.869605  "
      ]
     },
     "execution_count": 138,
     "metadata": {},
     "output_type": "execute_result"
    }
   ],
   "source": [
    "tab12=pd.pivot_table(sal_entr,index=['Niveau d’étude','Sexe'],values=['Salaire net en MAD'],aggfunc={'Salaire net en MAD':[min,max,np.mean]})\n",
    "tab12.transpose()"
   ]
  },
  {
   "cell_type": "code",
   "execution_count": 161,
   "metadata": {},
   "outputs": [
    {
     "data": {
      "text/plain": [
       "<AxesSubplot:xlabel='Salaire net en MAD', ylabel='Niveau d’étude'>"
      ]
     },
     "execution_count": 161,
     "metadata": {},
     "output_type": "execute_result"
    },
    {
     "data": {
      "image/png": "[encoded data removed]",
      "text/plain": [
       "<Figure size 432x288 with 1 Axes>"
      ]
     },
     "metadata": {
      "needs_background": "light"
     },
     "output_type": "display_data"
    }
   ],
   "source": [
    "sns.boxplot(y='Niveau d’étude',\n",
    "            x=\"Salaire net en MAD\", hue=\"Sexe\", \n",
    "            data=sal_entr\n",
    "            ,orient=\"h\", \n",
    "            palette=\"Set2\",)"
   ]
  },
  {
   "cell_type": "code",
   "execution_count": 148,
   "metadata": {},
   "outputs": [
    {
     "data": {
      "text/plain": [
       "<AxesSubplot:xlabel='Niveau d’étude,Sexe'>"
      ]
     },
     "execution_count": 148,
     "metadata": {},
     "output_type": "execute_result"
    },
    {
     "data": {
      "image/png": "[encoded data removed]",
      "text/plain": [
       "<Figure size 432x288 with 1 Axes>"
      ]
     },
     "metadata": {
      "needs_background": "light"
     },
     "output_type": "display_data"
    }
   ],
   "source": [
    "tab12.plot(kind='bar')"
   ]
  },
  {
   "cell_type": "markdown",
   "metadata": {},
   "source": [
    "#### Commentaire:"
   ]
  },
  {
   "cell_type": "markdown",
   "metadata": {},
   "source": [
    "> on remarque que lorsque les employées ont le même niveau d'étude mais différent sexe on ne trouve pas une grande différence au niveau des salaires. Par contre si ils ont de même sexe mais de niveau d'études différent alors il ya une grande différence des salaires"
   ]
  },
  {
   "cell_type": "markdown",
   "metadata": {},
   "source": [
    "#### Etudions l'effet de l'expérience et niveau d'études sur le salaire"
   ]
  },
  {
   "cell_type": "code",
   "execution_count": 177,
   "metadata": {},
   "outputs": [
    {
     "data": {
      "text/html": [
       "<div>\n",
       "<style scoped>\n",
       "    .dataframe tbody tr th:only-of-type {\n",
       "        vertical-align: middle;\n",
       "    }\n",
       "\n",
       "    .dataframe tbody tr th {\n",
       "        vertical-align: top;\n",
       "    }\n",
       "\n",
       "    .dataframe thead th {\n",
       "        text-align: right;\n",
       "    }\n",
       "</style>\n",
       "<table border=\"1\" class=\"dataframe\">\n",
       "  <thead>\n",
       "    <tr style=\"text-align: right;\">\n",
       "      <th></th>\n",
       "      <th></th>\n",
       "      <th>Salaire net en MAD</th>\n",
       "    </tr>\n",
       "    <tr>\n",
       "      <th>Niveau d’étude</th>\n",
       "      <th>intervalle d'expérience</th>\n",
       "      <th></th>\n",
       "    </tr>\n",
       "  </thead>\n",
       "  <tbody>\n",
       "    <tr>\n",
       "      <th rowspan=\"10\" valign=\"top\">BAC</th>\n",
       "      <th>[0,1]</th>\n",
       "      <td>2957.060943</td>\n",
       "    </tr>\n",
       "    <tr>\n",
       "      <th>[1,2]</th>\n",
       "      <td>3091.733386</td>\n",
       "    </tr>\n",
       "    <tr>\n",
       "      <th>[2,3]</th>\n",
       "      <td>3083.722187</td>\n",
       "    </tr>\n",
       "    <tr>\n",
       "      <th>[3,4]</th>\n",
       "      <td>3114.953286</td>\n",
       "    </tr>\n",
       "    <tr>\n",
       "      <th>[4,5]</th>\n",
       "      <td>3294.088262</td>\n",
       "    </tr>\n",
       "    <tr>\n",
       "      <th>[5,6]</th>\n",
       "      <td>3306.137338</td>\n",
       "    </tr>\n",
       "    <tr>\n",
       "      <th>[6,7]</th>\n",
       "      <td>3404.307115</td>\n",
       "    </tr>\n",
       "    <tr>\n",
       "      <th>[7,8]</th>\n",
       "      <td>3312.547230</td>\n",
       "    </tr>\n",
       "    <tr>\n",
       "      <th>[8,9]</th>\n",
       "      <td>3314.287961</td>\n",
       "    </tr>\n",
       "    <tr>\n",
       "      <th>[9,10]</th>\n",
       "      <td>3292.156820</td>\n",
       "    </tr>\n",
       "    <tr>\n",
       "      <th rowspan=\"10\" valign=\"top\">BAC+2</th>\n",
       "      <th>[0,1]</th>\n",
       "      <td>3611.313282</td>\n",
       "    </tr>\n",
       "    <tr>\n",
       "      <th>[1,2]</th>\n",
       "      <td>3679.483511</td>\n",
       "    </tr>\n",
       "    <tr>\n",
       "      <th>[2,3]</th>\n",
       "      <td>3701.320194</td>\n",
       "    </tr>\n",
       "    <tr>\n",
       "      <th>[3,4]</th>\n",
       "      <td>3820.238729</td>\n",
       "    </tr>\n",
       "    <tr>\n",
       "      <th>[4,5]</th>\n",
       "      <td>3798.409710</td>\n",
       "    </tr>\n",
       "    <tr>\n",
       "      <th>[5,6]</th>\n",
       "      <td>3750.006056</td>\n",
       "    </tr>\n",
       "    <tr>\n",
       "      <th>[6,7]</th>\n",
       "      <td>4119.428909</td>\n",
       "    </tr>\n",
       "    <tr>\n",
       "      <th>[7,8]</th>\n",
       "      <td>3984.293556</td>\n",
       "    </tr>\n",
       "    <tr>\n",
       "      <th>[8,9]</th>\n",
       "      <td>3976.433218</td>\n",
       "    </tr>\n",
       "    <tr>\n",
       "      <th>[9,10]</th>\n",
       "      <td>4030.331017</td>\n",
       "    </tr>\n",
       "    <tr>\n",
       "      <th rowspan=\"10\" valign=\"top\">BAC+3</th>\n",
       "      <th>[0,1]</th>\n",
       "      <td>4235.682224</td>\n",
       "    </tr>\n",
       "    <tr>\n",
       "      <th>[1,2]</th>\n",
       "      <td>4253.903971</td>\n",
       "    </tr>\n",
       "    <tr>\n",
       "      <th>[2,3]</th>\n",
       "      <td>4332.911039</td>\n",
       "    </tr>\n",
       "    <tr>\n",
       "      <th>[3,4]</th>\n",
       "      <td>4477.001719</td>\n",
       "    </tr>\n",
       "    <tr>\n",
       "      <th>[4,5]</th>\n",
       "      <td>4341.924497</td>\n",
       "    </tr>\n",
       "    <tr>\n",
       "      <th>[5,6]</th>\n",
       "      <td>4515.283762</td>\n",
       "    </tr>\n",
       "    <tr>\n",
       "      <th>[6,7]</th>\n",
       "      <td>4560.339350</td>\n",
       "    </tr>\n",
       "    <tr>\n",
       "      <th>[7,8]</th>\n",
       "      <td>4510.132078</td>\n",
       "    </tr>\n",
       "    <tr>\n",
       "      <th>[8,9]</th>\n",
       "      <td>4622.753437</td>\n",
       "    </tr>\n",
       "    <tr>\n",
       "      <th>[9,10]</th>\n",
       "      <td>4683.222704</td>\n",
       "    </tr>\n",
       "    <tr>\n",
       "      <th rowspan=\"10\" valign=\"top\">BAC+4</th>\n",
       "      <th>[0,1]</th>\n",
       "      <td>5542.000941</td>\n",
       "    </tr>\n",
       "    <tr>\n",
       "      <th>[1,2]</th>\n",
       "      <td>5589.077799</td>\n",
       "    </tr>\n",
       "    <tr>\n",
       "      <th>[2,3]</th>\n",
       "      <td>5729.654995</td>\n",
       "    </tr>\n",
       "    <tr>\n",
       "      <th>[3,4]</th>\n",
       "      <td>5700.206304</td>\n",
       "    </tr>\n",
       "    <tr>\n",
       "      <th>[4,5]</th>\n",
       "      <td>5846.925717</td>\n",
       "    </tr>\n",
       "    <tr>\n",
       "      <th>[5,6]</th>\n",
       "      <td>5794.401295</td>\n",
       "    </tr>\n",
       "    <tr>\n",
       "      <th>[6,7]</th>\n",
       "      <td>5810.510645</td>\n",
       "    </tr>\n",
       "    <tr>\n",
       "      <th>[7,8]</th>\n",
       "      <td>5904.284531</td>\n",
       "    </tr>\n",
       "    <tr>\n",
       "      <th>[8,9]</th>\n",
       "      <td>5997.302852</td>\n",
       "    </tr>\n",
       "    <tr>\n",
       "      <th>[9,10]</th>\n",
       "      <td>5943.461723</td>\n",
       "    </tr>\n",
       "    <tr>\n",
       "      <th rowspan=\"8\" valign=\"top\">BAC+5</th>\n",
       "      <th>[0,1]</th>\n",
       "      <td>8039.635318</td>\n",
       "    </tr>\n",
       "    <tr>\n",
       "      <th>[2,3]</th>\n",
       "      <td>8180.079847</td>\n",
       "    </tr>\n",
       "    <tr>\n",
       "      <th>[3,4]</th>\n",
       "      <td>10239.151854</td>\n",
       "    </tr>\n",
       "    <tr>\n",
       "      <th>[4,5]</th>\n",
       "      <td>10178.191995</td>\n",
       "    </tr>\n",
       "    <tr>\n",
       "      <th>[6,7]</th>\n",
       "      <td>11418.815937</td>\n",
       "    </tr>\n",
       "    <tr>\n",
       "      <th>[7,8]</th>\n",
       "      <td>11396.563014</td>\n",
       "    </tr>\n",
       "    <tr>\n",
       "      <th>[8,9]</th>\n",
       "      <td>11528.992437</td>\n",
       "    </tr>\n",
       "    <tr>\n",
       "      <th>[9,10]</th>\n",
       "      <td>11493.030395</td>\n",
       "    </tr>\n",
       "  </tbody>\n",
       "</table>\n",
       "</div>"
      ],
      "text/plain": [
       "                                        Salaire net en MAD\n",
       "Niveau d’étude intervalle d'expérience                    \n",
       "BAC            [0,1]                           2957.060943\n",
       "               [1,2]                           3091.733386\n",
       "               [2,3]                           3083.722187\n",
       "               [3,4]                           3114.953286\n",
       "               [4,5]                           3294.088262\n",
       "               [5,6]                           3306.137338\n",
       "               [6,7]                           3404.307115\n",
       "               [7,8]                           3312.547230\n",
       "               [8,9]                           3314.287961\n",
       "               [9,10]                          3292.156820\n",
       "BAC+2          [0,1]                           3611.313282\n",
       "               [1,2]                           3679.483511\n",
       "               [2,3]                           3701.320194\n",
       "               [3,4]                           3820.238729\n",
       "               [4,5]                           3798.409710\n",
       "               [5,6]                           3750.006056\n",
       "               [6,7]                           4119.428909\n",
       "               [7,8]                           3984.293556\n",
       "               [8,9]                           3976.433218\n",
       "               [9,10]                          4030.331017\n",
       "BAC+3          [0,1]                           4235.682224\n",
       "               [1,2]                           4253.903971\n",
       "               [2,3]                           4332.911039\n",
       "               [3,4]                           4477.001719\n",
       "               [4,5]                           4341.924497\n",
       "               [5,6]                           4515.283762\n",
       "               [6,7]                           4560.339350\n",
       "               [7,8]                           4510.132078\n",
       "               [8,9]                           4622.753437\n",
       "               [9,10]                          4683.222704\n",
       "BAC+4          [0,1]                           5542.000941\n",
       "               [1,2]                           5589.077799\n",
       "               [2,3]                           5729.654995\n",
       "               [3,4]                           5700.206304\n",
       "               [4,5]                           5846.925717\n",
       "               [5,6]                           5794.401295\n",
       "               [6,7]                           5810.510645\n",
       "               [7,8]                           5904.284531\n",
       "               [8,9]                           5997.302852\n",
       "               [9,10]                          5943.461723\n",
       "BAC+5          [0,1]                           8039.635318\n",
       "               [2,3]                           8180.079847\n",
       "               [3,4]                          10239.151854\n",
       "               [4,5]                          10178.191995\n",
       "               [6,7]                          11418.815937\n",
       "               [7,8]                          11396.563014\n",
       "               [8,9]                          11528.992437\n",
       "               [9,10]                         11493.030395"
      ]
     },
     "execution_count": 177,
     "metadata": {},
     "output_type": "execute_result"
    }
   ],
   "source": [
    "tab13=sal_entr.groupby(['intervalle d\\'expérience', 'Niveau d’étude'], as_index=False)['Salaire net en MAD'].mean()\n",
    "tab14=pd.pivot_table(tab13,index=['Niveau d’étude','intervalle d\\'expérience'],values=['Salaire net en MAD'])\n",
    "tab14"
   ]
  },
  {
   "cell_type": "code",
   "execution_count": 185,
   "metadata": {},
   "outputs": [
    {
     "data": {
      "image/png": "[encoded data removed]",
      "text/plain": [
       "<Figure size 444.375x360 with 1 Axes>"
      ]
     },
     "metadata": {
      "needs_background": "light"
     },
     "output_type": "display_data"
    }
   ],
   "source": [
    "sns.catplot(x=\"intervalle d'expérience\", y=\"Salaire net en MAD\",\n",
    "                hue=\"Niveau d’étude\",\n",
    "                data=tab13, kind=\"swarm\",\n",
    "                palette=\"Set2\",dodge=True);"
   ]
  },
  {
   "cell_type": "markdown",
   "metadata": {},
   "source": [
    "#### Commentaire:"
   ]
  },
  {
   "cell_type": "markdown",
   "metadata": {},
   "source": [
    "> *on remarque que le salaire varie d'une grande façon pour les employées de même expériences et niveau d'études différent plus que les employées ayant le même niveau d'étude et expériences différentes.*"
   ]
  },
  {
   "cell_type": "markdown",
   "metadata": {},
   "source": [
    "#### Etudions l'effet de l'expérience et niveau d'études et le sexe sur le salaire"
   ]
  },
  {
   "cell_type": "code",
   "execution_count": 194,
   "metadata": {},
   "outputs": [
    {
     "data": {
      "text/html": [
       "<div>\n",
       "<style scoped>\n",
       "    .dataframe tbody tr th:only-of-type {\n",
       "        vertical-align: middle;\n",
       "    }\n",
       "\n",
       "    .dataframe tbody tr th {\n",
       "        vertical-align: top;\n",
       "    }\n",
       "\n",
       "    .dataframe thead th {\n",
       "        text-align: right;\n",
       "    }\n",
       "</style>\n",
       "<table border=\"1\" class=\"dataframe\">\n",
       "  <thead>\n",
       "    <tr style=\"text-align: right;\">\n",
       "      <th></th>\n",
       "      <th></th>\n",
       "      <th></th>\n",
       "      <th>Salaire net en MAD</th>\n",
       "    </tr>\n",
       "    <tr>\n",
       "      <th>Niveau d’étude</th>\n",
       "      <th>intervalle d'expérience</th>\n",
       "      <th>Sexe</th>\n",
       "      <th></th>\n",
       "    </tr>\n",
       "  </thead>\n",
       "  <tbody>\n",
       "    <tr>\n",
       "      <th rowspan=\"5\" valign=\"top\">BAC</th>\n",
       "      <th rowspan=\"2\" valign=\"top\">[0,1]</th>\n",
       "      <th>F</th>\n",
       "      <td>2949.500143</td>\n",
       "    </tr>\n",
       "    <tr>\n",
       "      <th>H</th>\n",
       "      <td>2959.581209</td>\n",
       "    </tr>\n",
       "    <tr>\n",
       "      <th>[1,2]</th>\n",
       "      <th>F</th>\n",
       "      <td>3091.733386</td>\n",
       "    </tr>\n",
       "    <tr>\n",
       "      <th rowspan=\"2\" valign=\"top\">[2,3]</th>\n",
       "      <th>F</th>\n",
       "      <td>3093.301398</td>\n",
       "    </tr>\n",
       "    <tr>\n",
       "      <th>H</th>\n",
       "      <td>3078.932581</td>\n",
       "    </tr>\n",
       "    <tr>\n",
       "      <th>...</th>\n",
       "      <th>...</th>\n",
       "      <th>...</th>\n",
       "      <td>...</td>\n",
       "    </tr>\n",
       "    <tr>\n",
       "      <th rowspan=\"5\" valign=\"top\">BAC+5</th>\n",
       "      <th>[6,7]</th>\n",
       "      <th>H</th>\n",
       "      <td>11418.815937</td>\n",
       "    </tr>\n",
       "    <tr>\n",
       "      <th>[7,8]</th>\n",
       "      <th>H</th>\n",
       "      <td>11396.563014</td>\n",
       "    </tr>\n",
       "    <tr>\n",
       "      <th>[8,9]</th>\n",
       "      <th>H</th>\n",
       "      <td>11528.992437</td>\n",
       "    </tr>\n",
       "    <tr>\n",
       "      <th rowspan=\"2\" valign=\"top\">[9,10]</th>\n",
       "      <th>F</th>\n",
       "      <td>11416.406251</td>\n",
       "    </tr>\n",
       "    <tr>\n",
       "      <th>H</th>\n",
       "      <td>11531.342467</td>\n",
       "    </tr>\n",
       "  </tbody>\n",
       "</table>\n",
       "<p>80 rows × 1 columns</p>\n",
       "</div>"
      ],
      "text/plain": [
       "                                             Salaire net en MAD\n",
       "Niveau d’étude intervalle d'expérience Sexe                    \n",
       "BAC            [0,1]                   F            2949.500143\n",
       "                                       H            2959.581209\n",
       "               [1,2]                   F            3091.733386\n",
       "               [2,3]                   F            3093.301398\n",
       "                                       H            3078.932581\n",
       "...                                                         ...\n",
       "BAC+5          [6,7]                   H           11418.815937\n",
       "               [7,8]                   H           11396.563014\n",
       "               [8,9]                   H           11528.992437\n",
       "               [9,10]                  F           11416.406251\n",
       "                                       H           11531.342467\n",
       "\n",
       "[80 rows x 1 columns]"
      ]
     },
     "execution_count": 194,
     "metadata": {},
     "output_type": "execute_result"
    }
   ],
   "source": [
    "tab15=sal_entr.groupby(['Niveau d’étude','intervalle d\\'expérience', 'Sexe'], as_index=False)['Salaire net en MAD'].mean()\n",
    "tab16=pd.pivot_table(tab15,index=['Niveau d’étude','intervalle d\\'expérience','Sexe'],values=['Salaire net en MAD'])\n",
    "tab16"
   ]
  },
  {
   "cell_type": "code",
   "execution_count": 207,
   "metadata": {},
   "outputs": [
    {
     "data": {
      "text/plain": [
       "<seaborn.axisgrid.FacetGrid at 0x1dbb54f87c0>"
      ]
     },
     "execution_count": 207,
     "metadata": {},
     "output_type": "execute_result"
    },
    {
     "data": {
      "image/png": "[encoded data removed]",
      "text/plain": [
       "<Figure size 452.375x360 with 1 Axes>"
      ]
     },
     "metadata": {
      "needs_background": "light"
     },
     "output_type": "display_data"
    }
   ],
   "source": [
    "sns.relplot(\n",
    "    data=sal_entr.sort_values(by=['Niveau d’étude'], ascending=False), x=\"Nb année d’expérience\", y=\"Salaire net en MAD\",\n",
    "    hue=\"Sexe\", size=\"Niveau d’étude\",\n",
    "    palette=[\"b\", \"r\"], sizes=(10, 100)\n",
    ")"
   ]
  },
  {
   "cell_type": "markdown",
   "metadata": {},
   "source": [
    " #### Commentaire:"
   ]
  },
  {
   "cell_type": "markdown",
   "metadata": {},
   "source": [
    "> D'après ce dernier nuage de point qui représente la répartition des salaires selon le Sexe, l'expérience et niveau d'études, on peut observer qu'il y a pas une grande variation des salaire pour les employées de même niveau d'étude, Par contre pou les employée ayant niveau d'études différents on trouve une grande variation des salaires en fonction de niveau d'études plus que nombre d'années d'expérience."
   ]
  },
  {
   "cell_type": "markdown",
   "metadata": {},
   "source": [
    "#### Matrice des corrélations:"
   ]
  },
  {
   "cell_type": "markdown",
   "metadata": {},
   "source": [
    "***premierement on doit convertir le variable qualitative niveau d'études en variables quantitative discret***"
   ]
  },
  {
   "cell_type": "code",
   "execution_count": 216,
   "metadata": {},
   "outputs": [
    {
     "data": {
      "text/html": [
       "<div>\n",
       "<style scoped>\n",
       "    .dataframe tbody tr th:only-of-type {\n",
       "        vertical-align: middle;\n",
       "    }\n",
       "\n",
       "    .dataframe tbody tr th {\n",
       "        vertical-align: top;\n",
       "    }\n",
       "\n",
       "    .dataframe thead th {\n",
       "        text-align: right;\n",
       "    }\n",
       "</style>\n",
       "<table border=\"1\" class=\"dataframe\">\n",
       "  <thead>\n",
       "    <tr style=\"text-align: right;\">\n",
       "      <th></th>\n",
       "      <th>Identifiant</th>\n",
       "      <th>Sexe</th>\n",
       "      <th>Salaire net en MAD</th>\n",
       "      <th>Niveau d’étude</th>\n",
       "      <th>Nb année d’expérience</th>\n",
       "      <th>intervalle d'expérience</th>\n",
       "      <th>nb d'étude</th>\n",
       "    </tr>\n",
       "  </thead>\n",
       "  <tbody>\n",
       "    <tr>\n",
       "      <th>142</th>\n",
       "      <td>143</td>\n",
       "      <td>H</td>\n",
       "      <td>3621.448802</td>\n",
       "      <td>BAC+2</td>\n",
       "      <td>0.251117</td>\n",
       "      <td>[0,1]</td>\n",
       "      <td>2</td>\n",
       "    </tr>\n",
       "    <tr>\n",
       "      <th>168</th>\n",
       "      <td>169</td>\n",
       "      <td>H</td>\n",
       "      <td>4244.404264</td>\n",
       "      <td>BAC+3</td>\n",
       "      <td>0.570734</td>\n",
       "      <td>[0,1]</td>\n",
       "      <td>3</td>\n",
       "    </tr>\n",
       "    <tr>\n",
       "      <th>60</th>\n",
       "      <td>61</td>\n",
       "      <td>H</td>\n",
       "      <td>4252.874410</td>\n",
       "      <td>BAC+3</td>\n",
       "      <td>0.995531</td>\n",
       "      <td>[0,1]</td>\n",
       "      <td>3</td>\n",
       "    </tr>\n",
       "    <tr>\n",
       "      <th>132</th>\n",
       "      <td>133</td>\n",
       "      <td>F</td>\n",
       "      <td>2949.500143</td>\n",
       "      <td>BAC</td>\n",
       "      <td>0.373388</td>\n",
       "      <td>[0,1]</td>\n",
       "      <td>0</td>\n",
       "    </tr>\n",
       "    <tr>\n",
       "      <th>66</th>\n",
       "      <td>67</td>\n",
       "      <td>H</td>\n",
       "      <td>5547.985589</td>\n",
       "      <td>BAC+4</td>\n",
       "      <td>0.888613</td>\n",
       "      <td>[0,1]</td>\n",
       "      <td>4</td>\n",
       "    </tr>\n",
       "  </tbody>\n",
       "</table>\n",
       "</div>"
      ],
      "text/plain": [
       "     Identifiant Sexe  Salaire net en MAD Niveau d’étude  \\\n",
       "142          143    H         3621.448802          BAC+2   \n",
       "168          169    H         4244.404264          BAC+3   \n",
       "60            61    H         4252.874410          BAC+3   \n",
       "132          133    F         2949.500143            BAC   \n",
       "66            67    H         5547.985589          BAC+4   \n",
       "\n",
       "     Nb année d’expérience intervalle d'expérience  nb d'étude  \n",
       "142               0.251117                   [0,1]           2  \n",
       "168               0.570734                   [0,1]           3  \n",
       "60                0.995531                   [0,1]           3  \n",
       "132               0.373388                   [0,1]           0  \n",
       "66                0.888613                   [0,1]           4  "
      ]
     },
     "execution_count": 216,
     "metadata": {},
     "output_type": "execute_result"
    }
   ],
   "source": [
    "niveau_id={\n",
    "    'BAC':0,\n",
    "    'BAC+2':2,\n",
    "    'BAC+3':3,\n",
    "    'BAC+4':4,\n",
    "    'BAC+5':5\n",
    "}\n",
    "nb_etude=[niveau_id[niveau] for niveau in sal_entr[\"Niveau d’étude\"]]\n",
    "sal_entr['nb d\\'étude']=nb_etude\n",
    "sal_entr.head()"
   ]
  },
  {
   "cell_type": "code",
   "execution_count": 212,
   "metadata": {
    "scrolled": true
   },
   "outputs": [
    {
     "data": {
      "text/html": [
       "<div>\n",
       "<style scoped>\n",
       "    .dataframe tbody tr th:only-of-type {\n",
       "        vertical-align: middle;\n",
       "    }\n",
       "\n",
       "    .dataframe tbody tr th {\n",
       "        vertical-align: top;\n",
       "    }\n",
       "\n",
       "    .dataframe thead th {\n",
       "        text-align: right;\n",
       "    }\n",
       "</style>\n",
       "<table border=\"1\" class=\"dataframe\">\n",
       "  <thead>\n",
       "    <tr style=\"text-align: right;\">\n",
       "      <th></th>\n",
       "      <th>Identifiant</th>\n",
       "      <th>Salaire net en MAD</th>\n",
       "      <th>Nb année d’expérience</th>\n",
       "      <th>nb d'étude</th>\n",
       "    </tr>\n",
       "  </thead>\n",
       "  <tbody>\n",
       "    <tr>\n",
       "      <th>Identifiant</th>\n",
       "      <td>1.000000</td>\n",
       "      <td>-0.020071</td>\n",
       "      <td>-0.092679</td>\n",
       "      <td>0.050239</td>\n",
       "    </tr>\n",
       "    <tr>\n",
       "      <th>Salaire net en MAD</th>\n",
       "      <td>-0.020071</td>\n",
       "      <td>1.000000</td>\n",
       "      <td>0.229546</td>\n",
       "      <td>0.796086</td>\n",
       "    </tr>\n",
       "    <tr>\n",
       "      <th>Nb année d’expérience</th>\n",
       "      <td>-0.092679</td>\n",
       "      <td>0.229546</td>\n",
       "      <td>1.000000</td>\n",
       "      <td>0.123702</td>\n",
       "    </tr>\n",
       "    <tr>\n",
       "      <th>nb d'étude</th>\n",
       "      <td>0.050239</td>\n",
       "      <td>0.796086</td>\n",
       "      <td>0.123702</td>\n",
       "      <td>1.000000</td>\n",
       "    </tr>\n",
       "  </tbody>\n",
       "</table>\n",
       "</div>"
      ],
      "text/plain": [
       "                       Identifiant  Salaire net en MAD  Nb année d’expérience  \\\n",
       "Identifiant               1.000000           -0.020071              -0.092679   \n",
       "Salaire net en MAD       -0.020071            1.000000               0.229546   \n",
       "Nb année d’expérience    -0.092679            0.229546               1.000000   \n",
       "nb d'étude                0.050239            0.796086               0.123702   \n",
       "\n",
       "                       nb d'étude  \n",
       "Identifiant              0.050239  \n",
       "Salaire net en MAD       0.796086  \n",
       "Nb année d’expérience    0.123702  \n",
       "nb d'étude               1.000000  "
      ]
     },
     "execution_count": 212,
     "metadata": {},
     "output_type": "execute_result"
    }
   ],
   "source": [
    "sal_entr.corr()"
   ]
  },
  {
   "cell_type": "markdown",
   "metadata": {},
   "source": [
    "#### Commentaire:"
   ]
  },
  {
   "cell_type": "markdown",
   "metadata": {},
   "source": [
    "> d'après la matrice des corrélations on peut remarquer que:<br>\n",
    ">>***-le salaire et le nombre d'années d'expérience sont faiblement corrélé***.<br>***-le salaire et le nombre d'années d'études sont bien corrélé***"
   ]
  },
  {
   "cell_type": "markdown",
   "metadata": {},
   "source": [
    "### Conclusion :"
   ]
  },
  {
   "cell_type": "markdown",
   "metadata": {},
   "source": [
    ">*D'après l'étude statistique de l'influence de chaque variable sur le salaire et le tableau des corrélation on peut conclure que le salaire varie une grande variation avec niveau d'étude. Autrement dit , dans cette entreprise si vous avez un très bon niveau d'études vous aurez plus de chance d'avoir un bon salaire*"
   ]
  },
  {
   "cell_type": "markdown",
   "metadata": {},
   "source": [
    "# *Estimation du salaire dans cette entreprise*"
   ]
  },
  {
   "cell_type": "markdown",
   "metadata": {},
   "source": [
    "### Régression linéaire simple entre le salaire et le niveau d'études"
   ]
  },
  {
   "cell_type": "code",
   "execution_count": 281,
   "metadata": {},
   "outputs": [
    {
     "data": {
      "text/html": [
       "<div>\n",
       "<style scoped>\n",
       "    .dataframe tbody tr th:only-of-type {\n",
       "        vertical-align: middle;\n",
       "    }\n",
       "\n",
       "    .dataframe tbody tr th {\n",
       "        vertical-align: top;\n",
       "    }\n",
       "\n",
       "    .dataframe thead th {\n",
       "        text-align: right;\n",
       "    }\n",
       "</style>\n",
       "<table border=\"1\" class=\"dataframe\">\n",
       "  <thead>\n",
       "    <tr style=\"text-align: right;\">\n",
       "      <th></th>\n",
       "      <th>Identifiant</th>\n",
       "      <th>Sexe</th>\n",
       "      <th>Salaire net en MAD</th>\n",
       "      <th>Niveau d’étude</th>\n",
       "      <th>Nb année d’expérience</th>\n",
       "      <th>intervalle d'expérience</th>\n",
       "      <th>nb d'étude</th>\n",
       "      <th>salaire prédicté</th>\n",
       "    </tr>\n",
       "  </thead>\n",
       "  <tbody>\n",
       "    <tr>\n",
       "      <th>142</th>\n",
       "      <td>143</td>\n",
       "      <td>H</td>\n",
       "      <td>3621.448802</td>\n",
       "      <td>BAC+2</td>\n",
       "      <td>0.251117</td>\n",
       "      <td>[0,1]</td>\n",
       "      <td>2</td>\n",
       "      <td>4358.228654</td>\n",
       "    </tr>\n",
       "    <tr>\n",
       "      <th>168</th>\n",
       "      <td>169</td>\n",
       "      <td>H</td>\n",
       "      <td>4244.404264</td>\n",
       "      <td>BAC+3</td>\n",
       "      <td>0.570734</td>\n",
       "      <td>[0,1]</td>\n",
       "      <td>3</td>\n",
       "      <td>5364.608561</td>\n",
       "    </tr>\n",
       "    <tr>\n",
       "      <th>60</th>\n",
       "      <td>61</td>\n",
       "      <td>H</td>\n",
       "      <td>4252.874410</td>\n",
       "      <td>BAC+3</td>\n",
       "      <td>0.995531</td>\n",
       "      <td>[0,1]</td>\n",
       "      <td>3</td>\n",
       "      <td>5364.608561</td>\n",
       "    </tr>\n",
       "    <tr>\n",
       "      <th>132</th>\n",
       "      <td>133</td>\n",
       "      <td>F</td>\n",
       "      <td>2949.500143</td>\n",
       "      <td>BAC</td>\n",
       "      <td>0.373388</td>\n",
       "      <td>[0,1]</td>\n",
       "      <td>0</td>\n",
       "      <td>2345.468841</td>\n",
       "    </tr>\n",
       "    <tr>\n",
       "      <th>66</th>\n",
       "      <td>67</td>\n",
       "      <td>H</td>\n",
       "      <td>5547.985589</td>\n",
       "      <td>BAC+4</td>\n",
       "      <td>0.888613</td>\n",
       "      <td>[0,1]</td>\n",
       "      <td>4</td>\n",
       "      <td>6370.988468</td>\n",
       "    </tr>\n",
       "  </tbody>\n",
       "</table>\n",
       "</div>"
      ],
      "text/plain": [
       "     Identifiant Sexe  Salaire net en MAD Niveau d’étude  \\\n",
       "142          143    H         3621.448802          BAC+2   \n",
       "168          169    H         4244.404264          BAC+3   \n",
       "60            61    H         4252.874410          BAC+3   \n",
       "132          133    F         2949.500143            BAC   \n",
       "66            67    H         5547.985589          BAC+4   \n",
       "\n",
       "     Nb année d’expérience intervalle d'expérience  nb d'étude  \\\n",
       "142               0.251117                   [0,1]           2   \n",
       "168               0.570734                   [0,1]           3   \n",
       "60                0.995531                   [0,1]           3   \n",
       "132               0.373388                   [0,1]           0   \n",
       "66                0.888613                   [0,1]           4   \n",
       "\n",
       "     salaire prédicté  \n",
       "142       4358.228654  \n",
       "168       5364.608561  \n",
       "60        5364.608561  \n",
       "132       2345.468841  \n",
       "66        6370.988468  "
      ]
     },
     "execution_count": 281,
     "metadata": {},
     "output_type": "execute_result"
    }
   ],
   "source": [
    "X=sal_entr['nb d\\'étude']\n",
    "Y=sal_entr['Salaire net en MAD']\n",
    "reg=stats.linregress(X,Y)\n",
    "a,b=reg.slope,reg.intercept\n",
    "def salaire_éstimé(x):\n",
    "    return a*x+b\n",
    "reg\n",
    "sal_entr['salaire prédicté']=salaire_éstimé(X)\n",
    "sal_entr.head()"
   ]
  },
  {
   "cell_type": "code",
   "execution_count": 271,
   "metadata": {},
   "outputs": [
    {
     "data": {
      "text/plain": [
       "[<matplotlib.lines.Line2D at 0x1dbb7cd1fa0>]"
      ]
     },
     "execution_count": 271,
     "metadata": {},
     "output_type": "execute_result"
    },
    {
     "data": {
      "image/png": "[encoded data removed]",
      "text/plain": [
       "<Figure size 432x288 with 1 Axes>"
      ]
     },
     "metadata": {
      "needs_background": "light"
     },
     "output_type": "display_data"
    }
   ],
   "source": [
    "plt.plot(X, Y, 'o', label='les valeurs originals')\n",
    "plt.plot(X,sal_entr['salaire prédicté'],c='r')"
   ]
  },
  {
   "cell_type": "code",
   "execution_count": 276,
   "metadata": {},
   "outputs": [
    {
     "data": {
      "text/plain": [
       "8383.748281951264"
      ]
     },
     "execution_count": 276,
     "metadata": {},
     "output_type": "execute_result"
    }
   ],
   "source": [
    "#éstimation du salaire pour un employée avec BAC+6\n",
    "salaire_éstimé(6)"
   ]
  },
  {
   "cell_type": "code",
   "execution_count": 279,
   "metadata": {},
   "outputs": [
    {
     "data": {
      "text/plain": [
       "LinregressResult(slope=1006.3799068930563, intercept=2345.4688405929264, rvalue=0.796085611288653, pvalue=1.5816401857665539e-43, stderr=55.35705172589453)"
      ]
     },
     "execution_count": 279,
     "metadata": {},
     "output_type": "execute_result"
    }
   ],
   "source": [
    "reg"
   ]
  },
  {
   "cell_type": "markdown",
   "metadata": {},
   "source": [
    "### Régression linéaire simple entre le salaire et le nombre d'années d'expérience\n"
   ]
  },
  {
   "cell_type": "code",
   "execution_count": 286,
   "metadata": {},
   "outputs": [
    {
     "data": {
      "text/html": [
       "<div>\n",
       "<style scoped>\n",
       "    .dataframe tbody tr th:only-of-type {\n",
       "        vertical-align: middle;\n",
       "    }\n",
       "\n",
       "    .dataframe tbody tr th {\n",
       "        vertical-align: top;\n",
       "    }\n",
       "\n",
       "    .dataframe thead th {\n",
       "        text-align: right;\n",
       "    }\n",
       "</style>\n",
       "<table border=\"1\" class=\"dataframe\">\n",
       "  <thead>\n",
       "    <tr style=\"text-align: right;\">\n",
       "      <th></th>\n",
       "      <th>Identifiant</th>\n",
       "      <th>Sexe</th>\n",
       "      <th>Salaire net en MAD</th>\n",
       "      <th>Niveau d’étude</th>\n",
       "      <th>Nb année d’expérience</th>\n",
       "      <th>intervalle d'expérience</th>\n",
       "      <th>nb d'étude</th>\n",
       "      <th>salaire prédicté</th>\n",
       "    </tr>\n",
       "  </thead>\n",
       "  <tbody>\n",
       "    <tr>\n",
       "      <th>142</th>\n",
       "      <td>143</td>\n",
       "      <td>H</td>\n",
       "      <td>3621.448802</td>\n",
       "      <td>BAC+2</td>\n",
       "      <td>0.251117</td>\n",
       "      <td>[0,1]</td>\n",
       "      <td>2</td>\n",
       "      <td>4275.549287</td>\n",
       "    </tr>\n",
       "    <tr>\n",
       "      <th>168</th>\n",
       "      <td>169</td>\n",
       "      <td>H</td>\n",
       "      <td>4244.404264</td>\n",
       "      <td>BAC+3</td>\n",
       "      <td>0.570734</td>\n",
       "      <td>[0,1]</td>\n",
       "      <td>3</td>\n",
       "      <td>4327.023818</td>\n",
       "    </tr>\n",
       "    <tr>\n",
       "      <th>60</th>\n",
       "      <td>61</td>\n",
       "      <td>H</td>\n",
       "      <td>4252.874410</td>\n",
       "      <td>BAC+3</td>\n",
       "      <td>0.995531</td>\n",
       "      <td>[0,1]</td>\n",
       "      <td>3</td>\n",
       "      <td>4395.437526</td>\n",
       "    </tr>\n",
       "    <tr>\n",
       "      <th>132</th>\n",
       "      <td>133</td>\n",
       "      <td>F</td>\n",
       "      <td>2949.500143</td>\n",
       "      <td>BAC</td>\n",
       "      <td>0.373388</td>\n",
       "      <td>[0,1]</td>\n",
       "      <td>0</td>\n",
       "      <td>4295.241029</td>\n",
       "    </tr>\n",
       "    <tr>\n",
       "      <th>66</th>\n",
       "      <td>67</td>\n",
       "      <td>H</td>\n",
       "      <td>5547.985589</td>\n",
       "      <td>BAC+4</td>\n",
       "      <td>0.888613</td>\n",
       "      <td>[0,1]</td>\n",
       "      <td>4</td>\n",
       "      <td>4378.218319</td>\n",
       "    </tr>\n",
       "  </tbody>\n",
       "</table>\n",
       "</div>"
      ],
      "text/plain": [
       "     Identifiant Sexe  Salaire net en MAD Niveau d’étude  \\\n",
       "142          143    H         3621.448802          BAC+2   \n",
       "168          169    H         4244.404264          BAC+3   \n",
       "60            61    H         4252.874410          BAC+3   \n",
       "132          133    F         2949.500143            BAC   \n",
       "66            67    H         5547.985589          BAC+4   \n",
       "\n",
       "     Nb année d’expérience intervalle d'expérience  nb d'étude  \\\n",
       "142               0.251117                   [0,1]           2   \n",
       "168               0.570734                   [0,1]           3   \n",
       "60                0.995531                   [0,1]           3   \n",
       "132               0.373388                   [0,1]           0   \n",
       "66                0.888613                   [0,1]           4   \n",
       "\n",
       "     salaire prédicté  \n",
       "142       4275.549287  \n",
       "168       4327.023818  \n",
       "60        4395.437526  \n",
       "132       4295.241029  \n",
       "66        4378.218319  "
      ]
     },
     "execution_count": 286,
     "metadata": {},
     "output_type": "execute_result"
    }
   ],
   "source": [
    "X=sal_entr['Nb année d’expérience']\n",
    "Y=sal_entr['Salaire net en MAD']\n",
    "reg1=stats.linregress(X,Y)\n",
    "a,b=reg1.slope,reg1.intercept\n",
    "def salaire_éstimé1(x):\n",
    "    return a*x+b\n",
    "reg\n",
    "sal_entr['salaire prédicté']=salaire_éstimé1(X)\n",
    "sal_entr.head()"
   ]
  },
  {
   "cell_type": "code",
   "execution_count": 287,
   "metadata": {},
   "outputs": [
    {
     "data": {
      "text/plain": [
       "[<matplotlib.lines.Line2D at 0x1dbb9630970>]"
      ]
     },
     "execution_count": 287,
     "metadata": {},
     "output_type": "execute_result"
    },
    {
     "data": {
      "image/png": "[encoded data removed]",
      "text/plain": [
       "<Figure size 432x288 with 1 Axes>"
      ]
     },
     "metadata": {
      "needs_background": "light"
     },
     "output_type": "display_data"
    }
   ],
   "source": [
    "plt.plot(X, Y, 'o', label='les valeurs originals')\n",
    "plt.plot(X,sal_entr['salaire prédicté'],c='r')"
   ]
  },
  {
   "cell_type": "code",
   "execution_count": 299,
   "metadata": {},
   "outputs": [
    {
     "data": {
      "text/plain": [
       "LinregressResult(slope=161.05061395914575, intercept=4235.10671945771, rvalue=0.2295456233800982, pvalue=0.001321714750655655, stderr=49.410866706446186)"
      ]
     },
     "execution_count": 299,
     "metadata": {},
     "output_type": "execute_result"
    }
   ],
   "source": [
    "reg1"
   ]
  },
  {
   "cell_type": "code",
   "execution_count": 297,
   "metadata": {},
   "outputs": [
    {
     "data": {
      "text/plain": [
       "6167.714086967459"
      ]
     },
     "execution_count": 297,
     "metadata": {},
     "output_type": "execute_result"
    }
   ],
   "source": [
    "#éstimation du salaire pour un employée avec 12 ans d'éxpérience\n",
    "salaire_éstimé1(12)"
   ]
  },
  {
   "cell_type": "code",
   "execution_count": null,
   "metadata": {},
   "outputs": [],
   "source": []
  }
 ],
 "metadata": {
  "kernelspec": {
   "display_name": "Python 3",
   "language": "python",
   "name": "python3"
  },
  "language_info": {
   "codemirror_mode": {
    "name": "ipython",
    "version": 3
   },
   "file_extension": ".py",
   "mimetype": "text/x-python",
   "name": "python",
   "nbconvert_exporter": "python",
   "pygments_lexer": "ipython3",
   "version": "3.8.5"
  }
 },
 "nbformat": 4,
 "nbformat_minor": 4
}
